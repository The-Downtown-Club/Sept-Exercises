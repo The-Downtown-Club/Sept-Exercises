{
 "cells": [
  {
   "cell_type": "code",
   "execution_count": 1,
   "metadata": {},
   "outputs": [],
   "source": [
    "import warnings\n",
    "warnings.filterwarnings(\"ignore\")\n",
    "\n",
    "import pandas  as pd\n",
    "import numpy as np\n",
    "from scipy.sparse import hstack, vstack\n",
    "from sklearn.model_selection import train_test_split\n",
    "from sklearn.feature_extraction.text import TfidfVectorizer\n",
    "from sklearn.linear_model import LogisticRegression\n",
    "from sklearn.naive_bayes import MultinomialNB\n",
    "from sklearn.tree import DecisionTreeClassifier\n",
    "from sklearn.ensemble import RandomForestClassifier\n",
    "from xgboost import XGBClassifier\n",
    "from lightgbm import LGBMClassifier\n",
    "from sklearn.preprocessing import LabelBinarizer\n",
    "from sklearn.metrics import accuracy_score, roc_auc_score, precision_score, confusion_matrix, classification_report\n",
    "\n",
    "from sqlalchemy import create_engine\n",
    "from joblib import load, dump\n",
    "from text_preproc_pipeline import preproc\n",
    "from env import *\n",
    "from multiprocessing import Pool, cpu_count\n",
    "import time"
   ]
  },
  {
   "cell_type": "code",
   "execution_count": 2,
   "metadata": {},
   "outputs": [],
   "source": [
    "def vects(df):\n",
    "    title_vec_model_final = load(r'vectoriser_models\\title_tfidf_cat5_v4_1.pkl')\n",
    "    desc_vec_model_final = load(r'vectoriser_models\\desc_tfidf_cat5_v4_1.pkl')\n",
    "    subcat_vec_model_final = load(r'vectoriser_models\\subcat_tfidf_cat5_v4_1.pkl')\n",
    "    pl_vec_model_final = load(r'vectoriser_models\\pl_tfidf_cat5_v4_1.pkl')\n",
    "\n",
    "    title_mat = title_vec_model_final.transform(df['title_proc'].fillna(''))\n",
    "    desc_mat = desc_vec_model_final.transform(df['desc_proc'].fillna(''))\n",
    "    subcat_mat = subcat_vec_model_final.transform(df['subcat_proc'].fillna(''))\n",
    "    pl_mat = pl_vec_model_final.transform(df['pl_proc'].fillna(''))\n",
    "\n",
    "    X_mat = hstack((title_mat, desc_mat, subcat_mat, pl_mat))\n",
    "    return X_mat\n",
    "\n",
    "### tokenising the independent variables\n",
    "def preproc2(df_proc, isbase=False):\n",
    "    df_proc['title_proc'] = df_proc['title'].apply(lambda x: preproc(x))\n",
    "    df_proc['desc_proc'] = df_proc['description'].apply(lambda x: preproc(x))\n",
    "    df_proc['subcat_proc'] = df_proc['shopify_subcategory'].apply(lambda x: preproc(x))\n",
    "    if isbase == True:\n",
    "        df_proc['pl_proc'] = df_proc['page_link'].str.split('/products/',expand=True)[1].apply(lambda x: preproc(x))\n",
    "    else:\n",
    "        df_proc['pl_proc'] = df_proc['page_link'].apply(lambda x: preproc(x))\n",
    "\n",
    "    df2 = df_proc[['title_proc','subcat_proc','desc_proc', 'pl_proc']]\n",
    "\n",
    "    return vects(df2)\n",
    "    "
   ]
  },
  {
   "cell_type": "code",
   "execution_count": 7,
   "metadata": {},
   "outputs": [],
   "source": [
    "def train_models(models, df_main, baseline_df):\n",
    "\n",
    "    df_list = []\n",
    "    X_mat = preproc2(df_main)\n",
    "    y = df_main['category5_token']\n",
    "    X_base_mat = preproc2(baseline_df, isbase=True)\n",
    "    y_base = baseline_df['cat5_tokens']\n",
    "    y_bin = LabelBinarizer().fit_transform(y)\n",
    "    \n",
    "\n",
    "    for name, model in models:\n",
    "        start = time.time()\n",
    "        clf = model.fit(X_mat, y)\n",
    "        stop = time.time()\n",
    "        y_hat = clf.predict(X_mat)\n",
    "        acc = accuracy_score(y, y_hat)\n",
    "        y_hat_base = clf.predict(X_base_mat)\n",
    "        base_acc = accuracy_score(y_base, y_hat_base)\n",
    "        roc_sc = roc_auc_score(y_bin, clf.predict_proba(X_mat), multi_class=\"ovr\")\n",
    "\n",
    "        score_df = pd.DataFrame({\n",
    "            'model_name' : [name],\n",
    "            'Accuracy' : [acc],\n",
    "            'Baseline_accuracy' : [base_acc],\n",
    "            'roc_auc_score_ovr' : [roc_sc],\n",
    "            'training_time_min' : [(stop-start)/60]\n",
    "        })\n",
    "        df_list.append(score_df)        \n",
    "        dump(clf, f'classification_models/{name}_model.pkl')\n",
    "\n",
    "    final_scores = pd.concat(df_list)\n",
    "    final_scores.to_csv('final_scores.csv', index=False)"
   ]
  },
  {
   "cell_type": "code",
   "execution_count": 3,
   "metadata": {},
   "outputs": [
    {
     "data": {
      "text/plain": [
       "(93638, 6)"
      ]
     },
     "execution_count": 3,
     "metadata": {},
     "output_type": "execute_result"
    }
   ],
   "source": [
    "df_train = pd.read_csv('new_train_set_93k.csv')\n",
    "df_train.shape"
   ]
  },
  {
   "cell_type": "code",
   "execution_count": 100,
   "metadata": {},
   "outputs": [
    {
     "data": {
      "text/plain": [
       "(823, 13)"
      ]
     },
     "execution_count": 100,
     "metadata": {},
     "output_type": "execute_result"
    }
   ],
   "source": [
    "base_df = pd.read_csv('baseline_14112022.csv').rename(columns={'id':'_id', 'store_id':'_store_id', 'handle':'page_link', 'body_html':'description', 'product_type' :'shopify_subcategory'})\n",
    "base_df.shape"
   ]
  },
  {
   "cell_type": "code",
   "execution_count": 8,
   "metadata": {},
   "outputs": [
    {
     "name": "stdout",
     "output_type": "stream",
     "text": [
      "[10:15:32] WARNING: C:\\Windows\\Temp\\abs_557yfx631l\\croots\\recipe\\xgboost-split_1659548953302\\work\\src\\learner.cc:1115: Starting in XGBoost 1.3.0, the default evaluation metric used with the objective 'multi:softprob' was changed from 'merror' to 'mlogloss'. Explicitly set eval_metric if you'd like to restore the old behavior.\n"
     ]
    }
   ],
   "source": [
    "models = [('naive_bayes', MultinomialNB()), \n",
    "          ('decision_tree', DecisionTreeClassifier()),\n",
    "          ('random_forest', RandomForestClassifier()), \n",
    "          ('xgboost', XGBClassifier()),\n",
    "          ('lightgbm', LGBMClassifier())\n",
    "        ]\n",
    "\n",
    "train_models(models, df_train, base_df)"
   ]
  },
  {
   "cell_type": "code",
   "execution_count": 113,
   "metadata": {},
   "outputs": [
    {
     "data": {
      "text/html": [
       "<div>\n",
       "<style scoped>\n",
       "    .dataframe tbody tr th:only-of-type {\n",
       "        vertical-align: middle;\n",
       "    }\n",
       "\n",
       "    .dataframe tbody tr th {\n",
       "        vertical-align: top;\n",
       "    }\n",
       "\n",
       "    .dataframe thead th {\n",
       "        text-align: right;\n",
       "    }\n",
       "</style>\n",
       "<table border=\"1\" class=\"dataframe\">\n",
       "  <thead>\n",
       "    <tr style=\"text-align: right;\">\n",
       "      <th></th>\n",
       "      <th>model_name</th>\n",
       "      <th>Accuracy</th>\n",
       "      <th>Baseline_accuracy</th>\n",
       "      <th>training_time</th>\n",
       "    </tr>\n",
       "  </thead>\n",
       "  <tbody>\n",
       "    <tr>\n",
       "      <th>0</th>\n",
       "      <td>naive_bayes</td>\n",
       "      <td>0.919819</td>\n",
       "      <td>0.741191</td>\n",
       "      <td>0.048277</td>\n",
       "    </tr>\n",
       "    <tr>\n",
       "      <th>1</th>\n",
       "      <td>decision_tree</td>\n",
       "      <td>0.999178</td>\n",
       "      <td>0.918591</td>\n",
       "      <td>11.727274</td>\n",
       "    </tr>\n",
       "    <tr>\n",
       "      <th>2</th>\n",
       "      <td>random_forest</td>\n",
       "      <td>0.999178</td>\n",
       "      <td>0.972053</td>\n",
       "      <td>7.843192</td>\n",
       "    </tr>\n",
       "    <tr>\n",
       "      <th>3</th>\n",
       "      <td>xgboost</td>\n",
       "      <td>0.999028</td>\n",
       "      <td>0.922236</td>\n",
       "      <td>41.518883</td>\n",
       "    </tr>\n",
       "    <tr>\n",
       "      <th>4</th>\n",
       "      <td>lightgbm</td>\n",
       "      <td>0.013563</td>\n",
       "      <td>0.001215</td>\n",
       "      <td>56.002119</td>\n",
       "    </tr>\n",
       "  </tbody>\n",
       "</table>\n",
       "</div>"
      ],
      "text/plain": [
       "      model_name  Accuracy  Baseline_accuracy  training_time\n",
       "0    naive_bayes  0.919819           0.741191       0.048277\n",
       "1  decision_tree  0.999178           0.918591      11.727274\n",
       "2  random_forest  0.999178           0.972053       7.843192\n",
       "3        xgboost  0.999028           0.922236      41.518883\n",
       "4       lightgbm  0.013563           0.001215      56.002119"
      ]
     },
     "execution_count": 113,
     "metadata": {},
     "output_type": "execute_result"
    }
   ],
   "source": [
    "score_df = pd.read_csv('final_scores.csv')\n",
    "score_df"
   ]
  },
  {
   "cell_type": "code",
   "execution_count": 111,
   "metadata": {},
   "outputs": [
    {
     "data": {
      "text/html": [
       "<div>\n",
       "<style scoped>\n",
       "    .dataframe tbody tr th:only-of-type {\n",
       "        vertical-align: middle;\n",
       "    }\n",
       "\n",
       "    .dataframe tbody tr th {\n",
       "        vertical-align: top;\n",
       "    }\n",
       "\n",
       "    .dataframe thead th {\n",
       "        text-align: right;\n",
       "    }\n",
       "</style>\n",
       "<table border=\"1\" class=\"dataframe\">\n",
       "  <thead>\n",
       "    <tr style=\"text-align: right;\">\n",
       "      <th></th>\n",
       "      <th>model_name</th>\n",
       "      <th>Accuracy</th>\n",
       "      <th>Baseline_accuracy</th>\n",
       "      <th>training_time</th>\n",
       "      <th>roc_auc_score_ovr</th>\n",
       "    </tr>\n",
       "  </thead>\n",
       "  <tbody>\n",
       "    <tr>\n",
       "      <th>0</th>\n",
       "      <td>naive_bayes</td>\n",
       "      <td>0.919819</td>\n",
       "      <td>0.741191</td>\n",
       "      <td>0.048277</td>\n",
       "      <td>0.997796</td>\n",
       "    </tr>\n",
       "    <tr>\n",
       "      <th>1</th>\n",
       "      <td>decision_tree</td>\n",
       "      <td>0.999178</td>\n",
       "      <td>0.918591</td>\n",
       "      <td>11.727274</td>\n",
       "      <td>1.000000</td>\n",
       "    </tr>\n",
       "    <tr>\n",
       "      <th>2</th>\n",
       "      <td>random_forest</td>\n",
       "      <td>0.999178</td>\n",
       "      <td>0.972053</td>\n",
       "      <td>7.843192</td>\n",
       "      <td>0.999999</td>\n",
       "    </tr>\n",
       "    <tr>\n",
       "      <th>3</th>\n",
       "      <td>xgboost</td>\n",
       "      <td>0.999028</td>\n",
       "      <td>0.922236</td>\n",
       "      <td>41.518883</td>\n",
       "      <td>0.999999</td>\n",
       "    </tr>\n",
       "    <tr>\n",
       "      <th>4</th>\n",
       "      <td>lightgbm</td>\n",
       "      <td>0.013563</td>\n",
       "      <td>0.001215</td>\n",
       "      <td>56.002119</td>\n",
       "      <td>0.499881</td>\n",
       "    </tr>\n",
       "  </tbody>\n",
       "</table>\n",
       "</div>"
      ],
      "text/plain": [
       "      model_name  Accuracy  Baseline_accuracy  training_time  \\\n",
       "0    naive_bayes  0.919819           0.741191       0.048277   \n",
       "1  decision_tree  0.999178           0.918591      11.727274   \n",
       "2  random_forest  0.999178           0.972053       7.843192   \n",
       "3        xgboost  0.999028           0.922236      41.518883   \n",
       "4       lightgbm  0.013563           0.001215      56.002119   \n",
       "\n",
       "   roc_auc_score_ovr  \n",
       "0           0.997796  \n",
       "1           1.000000  \n",
       "2           0.999999  \n",
       "3           0.999999  \n",
       "4           0.499881  "
      ]
     },
     "execution_count": 111,
     "metadata": {},
     "output_type": "execute_result"
    }
   ],
   "source": [
    "pkl_files = ['naive_bayes_model.pkl',\n",
    "             'decision_tree_model.pkl',\n",
    "             'random_forest_model.pkl',\n",
    "             'xgboost_model.pkl',\n",
    "             'lightgbm_model.pkl'\n",
    "            ]\n",
    "\n",
    "\n",
    "lb = LabelBinarizer()\n",
    "roc_list= []\n",
    "X_mat = preproc2(df_train)\n",
    "y = df_train['category5_token']\n",
    "y_bin = lb.fit_transform(y)\n",
    "\n",
    "\n",
    "for pkl_file in pkl_files:\n",
    "    model = load(f'classification_models/{pkl_file}')\n",
    "    y_proba = model.predict_proba(X_mat)\n",
    "    roc_sc = roc_auc_score(y_bin, y_proba, multi_class='ovr')\n",
    "    roc_list.append(roc_sc)\n",
    "\n",
    "score_df = pd.read_csv('final_scores.csv')\n",
    "score_df['roc_auc_score_ovr'] = roc_list\n",
    "score_df"
   ]
  },
  {
   "cell_type": "code",
   "execution_count": 115,
   "metadata": {},
   "outputs": [
    {
     "data": {
      "text/html": [
       "<div>\n",
       "<style scoped>\n",
       "    .dataframe tbody tr th:only-of-type {\n",
       "        vertical-align: middle;\n",
       "    }\n",
       "\n",
       "    .dataframe tbody tr th {\n",
       "        vertical-align: top;\n",
       "    }\n",
       "\n",
       "    .dataframe thead th {\n",
       "        text-align: right;\n",
       "    }\n",
       "</style>\n",
       "<table border=\"1\" class=\"dataframe\">\n",
       "  <thead>\n",
       "    <tr style=\"text-align: right;\">\n",
       "      <th></th>\n",
       "      <th>model_name</th>\n",
       "      <th>Accuracy</th>\n",
       "      <th>Baseline_accuracy</th>\n",
       "      <th>training_time</th>\n",
       "      <th>roc_auc_score_ovr</th>\n",
       "    </tr>\n",
       "  </thead>\n",
       "  <tbody>\n",
       "    <tr>\n",
       "      <th>0</th>\n",
       "      <td>naive_bayes</td>\n",
       "      <td>0.919819</td>\n",
       "      <td>0.741191</td>\n",
       "      <td>0.048277</td>\n",
       "      <td>0.997796</td>\n",
       "    </tr>\n",
       "    <tr>\n",
       "      <th>1</th>\n",
       "      <td>decision_tree</td>\n",
       "      <td>0.999178</td>\n",
       "      <td>0.918591</td>\n",
       "      <td>11.727274</td>\n",
       "      <td>1.000000</td>\n",
       "    </tr>\n",
       "    <tr>\n",
       "      <th>2</th>\n",
       "      <td>random_forest</td>\n",
       "      <td>0.999178</td>\n",
       "      <td>0.972053</td>\n",
       "      <td>7.843192</td>\n",
       "      <td>0.999999</td>\n",
       "    </tr>\n",
       "    <tr>\n",
       "      <th>3</th>\n",
       "      <td>xgboost</td>\n",
       "      <td>0.999028</td>\n",
       "      <td>0.922236</td>\n",
       "      <td>41.518883</td>\n",
       "      <td>0.999999</td>\n",
       "    </tr>\n",
       "    <tr>\n",
       "      <th>4</th>\n",
       "      <td>lightgbm</td>\n",
       "      <td>0.013563</td>\n",
       "      <td>0.001215</td>\n",
       "      <td>56.002119</td>\n",
       "      <td>0.499881</td>\n",
       "    </tr>\n",
       "  </tbody>\n",
       "</table>\n",
       "</div>"
      ],
      "text/plain": [
       "      model_name  Accuracy  Baseline_accuracy  training_time  \\\n",
       "0    naive_bayes  0.919819           0.741191       0.048277   \n",
       "1  decision_tree  0.999178           0.918591      11.727274   \n",
       "2  random_forest  0.999178           0.972053       7.843192   \n",
       "3        xgboost  0.999028           0.922236      41.518883   \n",
       "4       lightgbm  0.013563           0.001215      56.002119   \n",
       "\n",
       "   roc_auc_score_ovr  \n",
       "0           0.997796  \n",
       "1           1.000000  \n",
       "2           0.999999  \n",
       "3           0.999999  \n",
       "4           0.499881  "
      ]
     },
     "execution_count": 115,
     "metadata": {},
     "output_type": "execute_result"
    }
   ],
   "source": [
    "score_df['roc_auc_score_ovr'] = roc_list\n",
    "score_df.to_csv('final_scores.csv')"
   ]
  }
 ],
 "metadata": {
  "kernelspec": {
   "display_name": "Python 3.9.13 ('base')",
   "language": "python",
   "name": "python3"
  },
  "language_info": {
   "codemirror_mode": {
    "name": "ipython",
    "version": 3
   },
   "file_extension": ".py",
   "mimetype": "text/x-python",
   "name": "python",
   "nbconvert_exporter": "python",
   "pygments_lexer": "ipython3",
   "version": "3.9.13"
  },
  "orig_nbformat": 4,
  "vscode": {
   "interpreter": {
    "hash": "d8f46350a8bd583910db51a1d64064108b958bcbad0d091bd79d552637a4ab30"
   }
  }
 },
 "nbformat": 4,
 "nbformat_minor": 2
}

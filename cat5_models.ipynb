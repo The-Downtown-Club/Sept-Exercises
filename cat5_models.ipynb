{
 "cells": [
  {
   "cell_type": "code",
   "execution_count": 3,
   "metadata": {},
   "outputs": [],
   "source": [
    "import warnings\n",
    "warnings.filterwarnings(\"ignore\")\n",
    "\n",
    "import pandas  as pd\n",
    "import numpy as np\n",
    "from scipy.sparse import hstack, vstack\n",
    "from sklearn.model_selection import train_test_split\n",
    "from sklearn.feature_extraction.text import TfidfVectorizer\n",
    "from sklearn.linear_model import LogisticRegression\n",
    "from sklearn.naive_bayes import MultinomialNB\n",
    "from sklearn.tree import DecisionTreeClassifier\n",
    "from sklearn.ensemble import RandomForestClassifier\n",
    "from xgboost import XGBClassifier\n",
    "from lightgbm import LGBMClassifier\n",
    "from sklearn.metrics import accuracy_score, roc_auc_score, precision_score, confusion_matrix, classification_report\n",
    "\n",
    "from sqlalchemy import create_engine\n",
    "from joblib import load\n",
    "from text_preproc_pipeline import preproc\n",
    "from env import *\n",
    "from multiprocessing import Pool, cpu_count\n",
    "import time"
   ]
  },
  {
   "cell_type": "code",
   "execution_count": null,
   "metadata": {},
   "outputs": [],
   "source": [
    "def vects(df):\n",
    "    title_vec_model_final = TfidfVectorizer(max_df=0.3, min_df=0.0001)\n",
    "    desc_vec_model_final = TfidfVectorizer(max_df=0.3, min_df=0.0001)\n",
    "    subcat_vec_model_final = TfidfVectorizer(max_df=0.3, min_df=0.0001)\n",
    "    pl_vec_model_final = TfidfVectorizer(max_df=0.3, min_df=0.0001)\n",
    "\n",
    "    title_mat = title_vec_model_final.fit_transform(df['title_proc'].fillna(''))\n",
    "    desc_mat = desc_vec_model_final.fit_transform(df['desc_proc'].fillna(''))\n",
    "    subcat_mat = subcat_vec_model_final.fit_transform(df['subcat_proc'].fillna(''))\n",
    "    pl_mat = pl_vec_model_final.fit_transform(df['pl_proc'].fillna(''))\n",
    "\n",
    "    X_mat = hstack((title_mat, desc_mat, subcat_mat, pl_mat))\n",
    "    return X_mat\n",
    "\n",
    "### tokenising the independent variables\n",
    "def preproc2(df_proc):\n",
    "    df_proc['title_proc'] = df_proc['title'].apply(lambda x: preproc(x))\n",
    "    df_proc['desc_proc'] = df_proc['description'].apply(lambda x: preproc(x))\n",
    "    df_proc['subcat_proc'] = df_proc['shopify_subcategory'].apply(lambda x: preproc(x))\n",
    "    df_proc['pl_proc'] = df_proc['page_link'].apply(lambda x: preproc(x))\n",
    "\n",
    "    df2 = df_proc[['title_proc','subcat_proc','desc_proc', 'pl_proc']]\n",
    "\n",
    "    return vects(df2)\n",
    "    "
   ]
  },
  {
   "cell_type": "code",
   "execution_count": null,
   "metadata": {},
   "outputs": [],
   "source": [
    "def train_models(models, df_main, baseline_df):\n",
    "\n",
    "    df_list = []\n",
    "    X_mat = preproc2(df_main)\n",
    "    y = df_main['category5_token']\n",
    "    X_base_mat = preproc2(baseline_df)\n",
    "    y_base = baseline_df['cat5_tokens']\n",
    "\n",
    "    for name, model in models[0:1]:\n",
    "        start = time.time()\n",
    "        clf = model.fit(X_mat, y)\n",
    "        stop = time.time()\n",
    "        y_hat = clf.predict(X_mat)\n",
    "        acc = accuracy_score(y, y_hat)\n",
    "        y_hat_base\n",
    "        base_acc = accuracy_score(y_base, y_hat_base)\n",
    "        score_df = pd.DataFrame({\n",
    "            'model_name' : name,\n",
    "            'Accuracy' : acc,\n",
    "            'Baseline_accuracy' : base_acc,\n",
    "            'training_time' : (stop-start)/60\n",
    "        })\n",
    "        df_list.append(score_df)        \n",
    "        joblib.dump(clf, f'classification_models/{name}_model.pkl')\n",
    "\n",
    "    final_scores = pd.concat(df_list)\n",
    "    final_scores.to_csv('final_scores.csv')"
   ]
  },
  {
   "cell_type": "code",
   "execution_count": null,
   "metadata": {},
   "outputs": [],
   "source": [
    "df_train = pd.read_csv('new_train_set_96k.csv')\n",
    "df_train.shape"
   ]
  },
  {
   "cell_type": "code",
   "execution_count": 6,
   "metadata": {},
   "outputs": [
    {
     "data": {
      "text/plain": [
       "(823, 13)"
      ]
     },
     "execution_count": 6,
     "metadata": {},
     "output_type": "execute_result"
    }
   ],
   "source": [
    "base_df = pd.read_csv('baseline_14112022.csv')\n",
    "base_df.shape"
   ]
  },
  {
   "cell_type": "code",
   "execution_count": null,
   "metadata": {},
   "outputs": [],
   "source": [
    "models = [('naive_bayes', MultinomialNB()), \n",
    "          ('decision_tree', DecisionTreeClassifier()),\n",
    "          ('rfc', RandomForestClassifier()), \n",
    "          ('xgboost', XGBClassifier()),\n",
    "          ('lightgbm', LGBMClassifier())\n",
    "        ]\n",
    "\n",
    "train_models(models, df_train, base_df)"
   ]
  }
 ],
 "metadata": {
  "kernelspec": {
   "display_name": "Python 3.9.13 ('base')",
   "language": "python",
   "name": "python3"
  },
  "language_info": {
   "codemirror_mode": {
    "name": "ipython",
    "version": 3
   },
   "file_extension": ".py",
   "mimetype": "text/x-python",
   "name": "python",
   "nbconvert_exporter": "python",
   "pygments_lexer": "ipython3",
   "version": "3.9.13"
  },
  "orig_nbformat": 4,
  "vscode": {
   "interpreter": {
    "hash": "d8f46350a8bd583910db51a1d64064108b958bcbad0d091bd79d552637a4ab30"
   }
  }
 },
 "nbformat": 4,
 "nbformat_minor": 2
}

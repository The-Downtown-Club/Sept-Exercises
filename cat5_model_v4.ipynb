{
 "cells": [
  {
   "cell_type": "code",
   "execution_count": 9,
   "metadata": {},
   "outputs": [],
   "source": [
    "import pandas  as pd\n",
    "import numpy as np\n",
    "from scipy.sparse import hstack, vstack\n",
    "from sklearn.model_selection import train_test_split\n",
    "from sklearn.feature_extraction.text import TfidfVectorizer\n",
    "from sklearn.linear_model import LogisticRegression\n",
    "from sklearn.metrics import accuracy_score, roc_auc_score, precision_score, confusion_matrix, classification_report\n",
    "\n",
    "from sqlalchemy import create_engine\n",
    "from joblib import load\n",
    "from text_preproc_pipeline import preproc\n",
    "from env import *\n",
    "from multiprocessing import Pool, cpu_count\n",
    "import warnings\n",
    "warnings.filterwarnings(\"ignore\")"
   ]
  },
  {
   "cell_type": "code",
   "execution_count": 82,
   "metadata": {},
   "outputs": [
    {
     "data": {
      "text/plain": [
       "(30886, 15)"
      ]
     },
     "execution_count": 82,
     "metadata": {},
     "output_type": "execute_result"
    }
   ],
   "source": [
    "con = create_engine(PRIMARY_DATABASE_URI)\n",
    "\n",
    "\n",
    "prod_df2 = pd.read_sql(\"select shopify_product_id, id, title, store_id, category_id, category2_id, category3_id, category5_id, shopify_subcategory, description, page_link, openai_summary, price, is_deleted from products where is_deleted = False \", con=con)\n",
    "# cat3_df = pd.read_sql(\"select id, display_name, token_name from category3\",con=con).rename(columns={\"id\":\"category3_id\",\"display_name\":\"category3\"})\n",
    "\n",
    "cat5_df = pd.read_csv('cat5_df.csv')\n",
    "# prod_df = prod_df.merge(cat1_df).merge(cat2_df).merge(cat5_df)\n",
    "# prod_df = prod_df.merge(cat3_df).merge(cat5_df)\n",
    "store_df = pd.read_sql(\"select id, store_name from brands\", con=con).rename(columns={\"id\":\"store_id\"})\n",
    "\n",
    "prod_df2 = prod_df2.merge(store_df, on=['store_id'], how='left')\n",
    "prod_df2 = prod_df2[~(prod_df2.store_id == 581)]\n",
    "prod_df2 = prod_df2[~(prod_df2.store_id == 605)]\n",
    "prod_df2.shape"
   ]
  },
  {
   "cell_type": "code",
   "execution_count": 84,
   "metadata": {},
   "outputs": [
    {
     "data": {
      "text/plain": [
       "Index(['shopify_product_id', 'id', 'title', 'store_id', 'category_id',\n",
       "       'category2_id', 'category3_id', 'category5_id', 'shopify_subcategory',\n",
       "       'description', 'page_link', 'openai_summary', 'price', 'is_deleted',\n",
       "       'store_name'],\n",
       "      dtype='object')"
      ]
     },
     "execution_count": 84,
     "metadata": {},
     "output_type": "execute_result"
    }
   ],
   "source": [
    "prod_df2.columns"
   ]
  },
  {
   "cell_type": "code",
   "execution_count": 86,
   "metadata": {},
   "outputs": [],
   "source": [
    "prod_df2 = prod_df2.dropna(subset=['category5_id'])\n",
    "prod_df2['category5_token'] = prod_df2['category5_id'].apply(lambda x: cat5_df[cat5_df['category5_id'] == x]['category5_tokens'].values[0])\n",
    "prod_df3 = prod_df2[['shopify_product_id', 'title', 'page_link', 'description', 'shopify_subcategory', 'category5_token']]"
   ]
  },
  {
   "cell_type": "code",
   "execution_count": 87,
   "metadata": {},
   "outputs": [
    {
     "data": {
      "text/plain": [
       "(90292, 6)"
      ]
     },
     "execution_count": 87,
     "metadata": {},
     "output_type": "execute_result"
    }
   ],
   "source": [
    "# df_train = pd.read_csv(\"cat5_training_set_final_08112022.csv\")\n",
    "df_train = pd.read_json(\"cat5_training_set_final_08112022.json\", orient='split')\n",
    "df_train.shape"
   ]
  },
  {
   "cell_type": "code",
   "execution_count": 89,
   "metadata": {},
   "outputs": [
    {
     "data": {
      "text/plain": [
       "(121146, 6)"
      ]
     },
     "execution_count": 89,
     "metadata": {},
     "output_type": "execute_result"
    }
   ],
   "source": [
    "df_train2 = pd.concat([df_train, prod_df3])\n",
    "df_train2.shape"
   ]
  },
  {
   "cell_type": "code",
   "execution_count": 90,
   "metadata": {},
   "outputs": [
    {
     "data": {
      "text/plain": [
       "(93638, 6)"
      ]
     },
     "execution_count": 90,
     "metadata": {},
     "output_type": "execute_result"
    }
   ],
   "source": [
    "df_train3 = df_train2.drop_duplicates(subset=['shopify_product_id'], keep='last')\n",
    "df_train3.shape"
   ]
  },
  {
   "cell_type": "code",
   "execution_count": 91,
   "metadata": {},
   "outputs": [
    {
     "data": {
      "text/plain": [
       "dress              2482\n",
       "earring            2410\n",
       "saree              1516\n",
       "top                1506\n",
       "shirt              1075\n",
       "                   ... \n",
       "cooky dough          20\n",
       "pourers              16\n",
       "scrap book            8\n",
       "ethnic legging        5\n",
       "fabric softener       5\n",
       "Name: category5_token, Length: 336, dtype: int64"
      ]
     },
     "execution_count": 91,
     "metadata": {},
     "output_type": "execute_result"
    }
   ],
   "source": [
    "df_train3.category5_token.value_counts()"
   ]
  },
  {
   "cell_type": "code",
   "execution_count": 92,
   "metadata": {},
   "outputs": [],
   "source": [
    "# correcting the training set\n",
    "\n",
    "new_cat_df = pd.read_csv('correct_prod.csv')\n",
    "to_update_df = df_train3[df_train3['shopify_product_id'].isin(new_cat_df['shopify_product_id'])]\n",
    "to_update_df['category5_token'] = to_update_df['shopify_product_id'].apply(lambda x: new_cat_df[new_cat_df['shopify_product_id'] == x]['cat5_final'].values[0])\n",
    "df_train3 = pd.concat([df_train3, to_update_df])\n",
    "df_train4 = df_train3.drop_duplicates(subset=['shopify_product_id'], keep='last')"
   ]
  },
  {
   "cell_type": "code",
   "execution_count": 131,
   "metadata": {},
   "outputs": [],
   "source": [
    "# df_train5 = df_train3.drop_duplicates(subset=['shopify_product_id'], keep='last')\n",
    "# df_train5.to_csv('new_train_set_93k.csv', index=False)"
   ]
  },
  {
   "cell_type": "code",
   "execution_count": 18,
   "metadata": {},
   "outputs": [],
   "source": [
    "def parallel_proc(df, fn, n_cores=5):\n",
    "    if cpu_count() < n_cores:\n",
    "        raise ValueError(\"The number of CPU's specified exceed the amount available\")\n",
    "\n",
    "    df_list = np.array_split(df, n_cores)\n",
    "    pool = Pool(n_cores)\n",
    "    res = pool.map(fn, df_list)\n",
    "    pool.close()\n",
    "    pool.join()\n",
    "    return pd.concat(res)"
   ]
  },
  {
   "cell_type": "code",
   "execution_count": 99,
   "metadata": {},
   "outputs": [],
   "source": [
    "### tokenising the independent variables\n",
    "\n",
    "df_train4['title_proc'] = df_train4['title'].apply(lambda x: preproc(x))\n",
    "df_train4['desc_proc'] = df_train4['description'].apply(lambda x: preproc(x))\n",
    "df_train4['subcat_proc'] = df_train4['shopify_subcategory'].apply(lambda x: preproc(x))\n",
    "df_train4['pl_proc'] = df_train4['page_link'].apply(lambda x: preproc(x))"
   ]
  },
  {
   "cell_type": "code",
   "execution_count": 102,
   "metadata": {},
   "outputs": [],
   "source": [
    "### creating X (independent variables) and y (dependent variable) matrices\n",
    "\n",
    "X = df_train4[['title_proc','subcat_proc','desc_proc', 'pl_proc']]\n",
    "\n",
    "# X = df_train4[['title_proc',','desc_proc', 'pl_proc']]\n",
    "\n",
    "y = df_train4['category5_token']"
   ]
  },
  {
   "cell_type": "code",
   "execution_count": 103,
   "metadata": {},
   "outputs": [],
   "source": [
    "### Train/Test Split\n",
    "\n",
    "X_train, X_test, y_train, y_test = train_test_split(X,y, train_size=0.8, test_size=0.2, stratify=y, random_state=10)"
   ]
  },
  {
   "cell_type": "code",
   "execution_count": 104,
   "metadata": {},
   "outputs": [],
   "source": [
    "### Term-Frequency and Inverse document Frequency vectorizer with bigrams\n",
    "\n",
    "title_vec_model = TfidfVectorizer(max_df=0.3, min_df=0.0001, ngram_range = (1,1), stop_words = [\"english\"])\n",
    "desc_vec_model = TfidfVectorizer(max_df=0.3, min_df=0.0001, ngram_range = (1,1), stop_words = [\"english\"])\n",
    "subcat_vec_model = TfidfVectorizer(max_df=0.3, min_df=0.0001, ngram_range = (1,1), stop_words = [\"english\"])\n",
    "pl_vec_model = TfidfVectorizer(max_df=0.3, min_df=0.0001, ngram_range = (1,1), stop_words = [\"english\"])"
   ]
  },
  {
   "cell_type": "code",
   "execution_count": 105,
   "metadata": {},
   "outputs": [],
   "source": [
    "### Fitting the Vectorisers on dependent variables\n",
    "\n",
    "title_mat_train = title_vec_model.fit_transform(X_train['title_proc'].fillna(''))\n",
    "desc_mat_train = desc_vec_model.fit_transform(X_train['desc_proc'].fillna(''))\n",
    "subcat_mat_train = subcat_vec_model.fit_transform(X_train['subcat_proc'].fillna(''))\n",
    "pl_mat_train = pl_vec_model.fit_transform(X_train['pl_proc'].fillna(''))"
   ]
  },
  {
   "cell_type": "code",
   "execution_count": 106,
   "metadata": {},
   "outputs": [
    {
     "data": {
      "text/plain": [
       "<74910x25583 sparse matrix of type '<class 'numpy.float64'>'\n",
       "\twith 4460471 stored elements in Compressed Sparse Row format>"
      ]
     },
     "execution_count": 106,
     "metadata": {},
     "output_type": "execute_result"
    }
   ],
   "source": [
    "X_mat_train = hstack((title_mat_train, desc_mat_train, subcat_mat_train, pl_mat_train))\n",
    "# X_mat_train = hstack((title_mat_train, desc_mat_train, pl_mat_train))\n",
    "\n",
    "X_mat_train"
   ]
  },
  {
   "cell_type": "code",
   "execution_count": 132,
   "metadata": {},
   "outputs": [
    {
     "data": {
      "text/plain": [
       "(74910, 25583)"
      ]
     },
     "execution_count": 132,
     "metadata": {},
     "output_type": "execute_result"
    }
   ],
   "source": [
    "X_mat_train.shape"
   ]
  },
  {
   "cell_type": "code",
   "execution_count": 107,
   "metadata": {},
   "outputs": [],
   "source": [
    "title_mat_test = title_vec_model.transform(X_test['title_proc'].fillna(''))\n",
    "desc_mat_test = desc_vec_model.transform(X_test['desc_proc'].fillna(''))\n",
    "subcat_mat_test = subcat_vec_model.transform(X_test['subcat_proc'].fillna(''))\n",
    "pl_mat_test = pl_vec_model.transform(X_test['pl_proc'].fillna(''))"
   ]
  },
  {
   "cell_type": "code",
   "execution_count": 108,
   "metadata": {},
   "outputs": [
    {
     "data": {
      "text/plain": [
       "<18728x25583 sparse matrix of type '<class 'numpy.float64'>'\n",
       "\twith 1111442 stored elements in Compressed Sparse Row format>"
      ]
     },
     "execution_count": 108,
     "metadata": {},
     "output_type": "execute_result"
    }
   ],
   "source": [
    "X_mat_test = hstack((title_mat_test, desc_mat_test, subcat_mat_test, pl_mat_test))\n",
    "# X_mat_test = hstack((title_mat_test, desc_mat_test, pl_mat_test))\n",
    "\n",
    "X_mat_test"
   ]
  },
  {
   "cell_type": "code",
   "execution_count": 109,
   "metadata": {},
   "outputs": [
    {
     "data": {
      "text/plain": [
       "LogisticRegression(n_jobs=6)"
      ]
     },
     "execution_count": 109,
     "metadata": {},
     "output_type": "execute_result"
    }
   ],
   "source": [
    "lr_model = LogisticRegression(n_jobs=6)\n",
    "\n",
    "lr_model.fit(X_mat_train, y_train)"
   ]
  },
  {
   "cell_type": "code",
   "execution_count": 110,
   "metadata": {},
   "outputs": [],
   "source": [
    "yhat = lr_model.predict(X_mat_test)"
   ]
  },
  {
   "cell_type": "code",
   "execution_count": 111,
   "metadata": {},
   "outputs": [
    {
     "name": "stdout",
     "output_type": "stream",
     "text": [
      "Accuracy Score Is :  0.9692439128577531\n"
     ]
    }
   ],
   "source": [
    "print(\"Accuracy Score Is : \", accuracy_score(y_test, yhat))\n",
    "# print(\"ROC_Score : \" +str(roc_auc_score(y_test, yhat,multi_class=\"ovr\")))\n",
    "# print('classification Score =','\\n', classification_report(y_test,yhat))\n",
    "# print(\"Confusion Matrix HeatMap : \\n\", confusion_matrix(y_test, yhat))"
   ]
  },
  {
   "cell_type": "markdown",
   "metadata": {},
   "source": [
    "### Building the final model"
   ]
  },
  {
   "cell_type": "code",
   "execution_count": 112,
   "metadata": {},
   "outputs": [],
   "source": [
    "X = pd.concat([X_train,X_test])\n",
    "y = pd.concat([y_train,y_test])"
   ]
  },
  {
   "cell_type": "code",
   "execution_count": 113,
   "metadata": {},
   "outputs": [
    {
     "data": {
      "text/html": [
       "<div>\n",
       "<style scoped>\n",
       "    .dataframe tbody tr th:only-of-type {\n",
       "        vertical-align: middle;\n",
       "    }\n",
       "\n",
       "    .dataframe tbody tr th {\n",
       "        vertical-align: top;\n",
       "    }\n",
       "\n",
       "    .dataframe thead th {\n",
       "        text-align: right;\n",
       "    }\n",
       "</style>\n",
       "<table border=\"1\" class=\"dataframe\">\n",
       "  <thead>\n",
       "    <tr style=\"text-align: right;\">\n",
       "      <th></th>\n",
       "      <th>title_proc</th>\n",
       "      <th>subcat_proc</th>\n",
       "      <th>desc_proc</th>\n",
       "      <th>pl_proc</th>\n",
       "    </tr>\n",
       "  </thead>\n",
       "  <tbody>\n",
       "    <tr>\n",
       "      <th>2400</th>\n",
       "      <td>romano nx cotton girl night suit</td>\n",
       "      <td>none</td>\n",
       "      <td>romano nx cotton night suit made best quality ...</td>\n",
       "      <td>romano nx cotton girl night suit</td>\n",
       "    </tr>\n",
       "    <tr>\n",
       "      <th>9556</th>\n",
       "      <td>pure encapsulation thyroid support complex hyp...</td>\n",
       "      <td>none</td>\n",
       "      <td>size count pack comprehensive thyroid support ...</td>\n",
       "      <td>pure encapsulation thyroid support complex hyp...</td>\n",
       "    </tr>\n",
       "    <tr>\n",
       "      <th>18475</th>\n",
       "      <td>apple pear muffin set</td>\n",
       "      <td></td>\n",
       "      <td>box apple pear muffin mad seasonal fruit take ...</td>\n",
       "      <td>http earthygrains product apple pear muffin ut...</td>\n",
       "    </tr>\n",
       "    <tr>\n",
       "      <th>22078</th>\n",
       "      <td>ruched v neck shirt</td>\n",
       "      <td>shirt</td>\n",
       "      <td>care instruction mild wash fit type slim fit f...</td>\n",
       "      <td>http shoptinted com product ruched v neck shir...</td>\n",
       "    </tr>\n",
       "    <tr>\n",
       "      <th>1279</th>\n",
       "      <td>purr tote bag</td>\n",
       "      <td></td>\n",
       "      <td>description white tote bag two pocket material...</td>\n",
       "      <td>http cosmicjalebi com product purr tote bag co...</td>\n",
       "    </tr>\n",
       "    <tr>\n",
       "      <th>...</th>\n",
       "      <td>...</td>\n",
       "      <td>...</td>\n",
       "      <td>...</td>\n",
       "      <td>...</td>\n",
       "    </tr>\n",
       "    <tr>\n",
       "      <th>18688</th>\n",
       "      <td>rukhsar</td>\n",
       "      <td></td>\n",
       "      <td>ombre dyed ghera dress voluminous free flowing...</td>\n",
       "      <td>http chambrayandco myshopify com product rukhs...</td>\n",
       "    </tr>\n",
       "    <tr>\n",
       "      <th>12715</th>\n",
       "      <td>gold plated hand painted stone studded maang t...</td>\n",
       "      <td>none</td>\n",
       "      <td>color red style maang tikka material alloy sto...</td>\n",
       "      <td>gold plated hand painted stone studded maang t...</td>\n",
       "    </tr>\n",
       "    <tr>\n",
       "      <th>14296</th>\n",
       "      <td>hemp organic cotton printed unisex shirt puff ...</td>\n",
       "      <td>unisex top</td>\n",
       "      <td>add relaxed vibe smart casual outfit rocking t...</td>\n",
       "      <td>http hemprepublic product hemp organic cotton ...</td>\n",
       "    </tr>\n",
       "    <tr>\n",
       "      <th>12109</th>\n",
       "      <td>turquoise green banarasi silk lehenga choli</td>\n",
       "      <td>none</td>\n",
       "      <td>crafted majestic natural fabric give beauty we...</td>\n",
       "      <td>turquoise green banarasi silk lehenga choli</td>\n",
       "    </tr>\n",
       "    <tr>\n",
       "      <th>19824</th>\n",
       "      <td>black running jasmine sneaker shoe</td>\n",
       "      <td>none</td>\n",
       "      <td>plein sport gorgeous brand new tag authentic p...</td>\n",
       "      <td>black running jasmine sneaker shoe</td>\n",
       "    </tr>\n",
       "  </tbody>\n",
       "</table>\n",
       "<p>93638 rows × 4 columns</p>\n",
       "</div>"
      ],
      "text/plain": [
       "                                              title_proc subcat_proc  \\\n",
       "2400                    romano nx cotton girl night suit        none   \n",
       "9556   pure encapsulation thyroid support complex hyp...        none   \n",
       "18475                              apple pear muffin set               \n",
       "22078                                ruched v neck shirt       shirt   \n",
       "1279                                       purr tote bag               \n",
       "...                                                  ...         ...   \n",
       "18688                                            rukhsar               \n",
       "12715  gold plated hand painted stone studded maang t...        none   \n",
       "14296  hemp organic cotton printed unisex shirt puff ...  unisex top   \n",
       "12109        turquoise green banarasi silk lehenga choli        none   \n",
       "19824                 black running jasmine sneaker shoe        none   \n",
       "\n",
       "                                               desc_proc  \\\n",
       "2400   romano nx cotton night suit made best quality ...   \n",
       "9556   size count pack comprehensive thyroid support ...   \n",
       "18475  box apple pear muffin mad seasonal fruit take ...   \n",
       "22078  care instruction mild wash fit type slim fit f...   \n",
       "1279   description white tote bag two pocket material...   \n",
       "...                                                  ...   \n",
       "18688  ombre dyed ghera dress voluminous free flowing...   \n",
       "12715  color red style maang tikka material alloy sto...   \n",
       "14296  add relaxed vibe smart casual outfit rocking t...   \n",
       "12109  crafted majestic natural fabric give beauty we...   \n",
       "19824  plein sport gorgeous brand new tag authentic p...   \n",
       "\n",
       "                                                 pl_proc  \n",
       "2400                    romano nx cotton girl night suit  \n",
       "9556   pure encapsulation thyroid support complex hyp...  \n",
       "18475  http earthygrains product apple pear muffin ut...  \n",
       "22078  http shoptinted com product ruched v neck shir...  \n",
       "1279   http cosmicjalebi com product purr tote bag co...  \n",
       "...                                                  ...  \n",
       "18688  http chambrayandco myshopify com product rukhs...  \n",
       "12715  gold plated hand painted stone studded maang t...  \n",
       "14296  http hemprepublic product hemp organic cotton ...  \n",
       "12109        turquoise green banarasi silk lehenga choli  \n",
       "19824                 black running jasmine sneaker shoe  \n",
       "\n",
       "[93638 rows x 4 columns]"
      ]
     },
     "execution_count": 113,
     "metadata": {},
     "output_type": "execute_result"
    }
   ],
   "source": [
    "X"
   ]
  },
  {
   "cell_type": "code",
   "execution_count": null,
   "metadata": {},
   "outputs": [],
   "source": [
    "title_vec_model_final = TfidfVectorizer(max_df=0.3, min_df=0.0001)\n",
    "desc_vec_model_final = TfidfVectorizer(max_df=0.3, min_df=0.0001)\n",
    "subcat_vec_model_final = TfidfVectorizer(max_df=0.3, min_df=0.0001)\n",
    "pl_vec_model_final = TfidfVectorizer(max_df=0.3, min_df=0.0001)"
   ]
  },
  {
   "cell_type": "code",
   "execution_count": null,
   "metadata": {},
   "outputs": [],
   "source": [
    "\n",
    "title_mat = title_vec_model_final.fit_transform(X['title_proc'].fillna(''))\n",
    "desc_mat = desc_vec_model_final.fit_transform(X['desc_proc'].fillna(''))\n",
    "subcat_mat = subcat_vec_model_final.fit_transform(X['subcat_proc'].fillna(''))\n",
    "pl_mat = pl_vec_model_final.fit_transform(X['pl_proc'].fillna(''))"
   ]
  },
  {
   "cell_type": "code",
   "execution_count": 116,
   "metadata": {},
   "outputs": [
    {
     "data": {
      "text/plain": [
       "<93638x25262 sparse matrix of type '<class 'numpy.float64'>'\n",
       "\twith 5570695 stored elements in Compressed Sparse Row format>"
      ]
     },
     "execution_count": 116,
     "metadata": {},
     "output_type": "execute_result"
    }
   ],
   "source": [
    "X_mat = hstack((title_mat, desc_mat, subcat_mat, pl_mat))\n",
    "# X_mat = hstack((title_mat, desc_mat, pl_mat))\n",
    "X_mat"
   ]
  },
  {
   "cell_type": "code",
   "execution_count": 133,
   "metadata": {},
   "outputs": [
    {
     "data": {
      "text/plain": [
       "(93638, 25262)"
      ]
     },
     "execution_count": 133,
     "metadata": {},
     "output_type": "execute_result"
    }
   ],
   "source": [
    "X_mat.shape"
   ]
  },
  {
   "cell_type": "code",
   "execution_count": 117,
   "metadata": {},
   "outputs": [
    {
     "data": {
      "text/plain": [
       "LogisticRegression(n_jobs=6)"
      ]
     },
     "execution_count": 117,
     "metadata": {},
     "output_type": "execute_result"
    }
   ],
   "source": [
    "lr_model_final = LogisticRegression(n_jobs=6)\n",
    "lr_model_final.fit(X_mat, y)"
   ]
  },
  {
   "cell_type": "code",
   "execution_count": 118,
   "metadata": {},
   "outputs": [
    {
     "name": "stdout",
     "output_type": "stream",
     "text": [
      "Accuracy Score Is :  0.990068134731626\n"
     ]
    }
   ],
   "source": [
    "yhat = lr_model_final.predict(X_mat)\n",
    "print(\"Accuracy Score Is : \", accuracy_score(y, yhat))\n",
    "# print(\"ROC_Score : \" +str(roc_auc_score(y, lr_model_final.predict(X_mat))))\n",
    "# al.predict_proba(X_mat),multi_class=\"ovr\")))\n",
    "# print('classification Score =','\\n', classification_report(y,yhat))\n",
    "# print(\"Confusion Matrix HeatMap : \\n\", confusion_matrix(y, yhat))"
   ]
  },
  {
   "cell_type": "markdown",
   "metadata": {},
   "source": [
    "### Exporting the model"
   ]
  },
  {
   "cell_type": "code",
   "execution_count": 119,
   "metadata": {},
   "outputs": [
    {
     "data": {
      "text/plain": [
       "['classification_models/logistic_regression_model_cat5_v4_1.pkl']"
      ]
     },
     "execution_count": 119,
     "metadata": {},
     "output_type": "execute_result"
    }
   ],
   "source": [
    "import joblib\n",
    "\n",
    "joblib.dump(title_vec_model_final,'vectoriser_models/title_tfidf_cat5_v4_1.pkl')\n",
    "joblib.dump(desc_vec_model_final,'vectoriser_models/desc_tfidf_cat5_v4_1.pkl')\n",
    "joblib.dump(subcat_vec_model_final,'vectoriser_models/subcat_tfidf_cat5_v4_1.pkl')\n",
    "joblib.dump(pl_vec_model_final,'vectoriser_models/pl_tfidf_cat5_v4_1.pkl')\n",
    "joblib.dump(lr_model_final,'classification_models/logistic_regression_model_cat5_v4_1.pkl')"
   ]
  },
  {
   "cell_type": "markdown",
   "metadata": {},
   "source": [
    "### Testing on baseline"
   ]
  },
  {
   "cell_type": "code",
   "execution_count": 120,
   "metadata": {},
   "outputs": [
    {
     "data": {
      "text/plain": [
       "(823, 13)"
      ]
     },
     "execution_count": 120,
     "metadata": {},
     "output_type": "execute_result"
    }
   ],
   "source": [
    "# prod_df = pd.read_csv(\"df_baseline_trainingset.csv\").rename(columns={'id':'_id', 'store_id':'_store_id', 'handle':'page_link', 'body_html':'description', 'product_type' :'shopify_subcategory'})\n",
    "prod_df = pd.read_csv(\"baseline_14112022.csv\").rename(columns={'id':'_id', 'store_id':'_store_id', 'handle':'page_link', 'body_html':'description', 'product_type' :'shopify_subcategory'})\n",
    "prod_df.shape"
   ]
  },
  {
   "cell_type": "code",
   "execution_count": 121,
   "metadata": {},
   "outputs": [],
   "source": [
    "prod_df['title_proc'] = prod_df['title'].apply(lambda x: preproc(x))\n",
    "prod_df['desc_proc'] = prod_df['description'].apply(lambda x: preproc(x))\n",
    "prod_df['subcat_proc'] = prod_df['shopify_subcategory'].apply(lambda x: preproc(x))\n",
    "prod_df['pl_proc'] = prod_df['page_link'].str.split('/products/',expand=True)[1].apply(lambda x: preproc(x))"
   ]
  },
  {
   "cell_type": "code",
   "execution_count": 122,
   "metadata": {},
   "outputs": [],
   "source": [
    "X_df_rt = prod_df[['title_proc','subcat_proc','desc_proc', 'pl_proc']]\n",
    "# X_df_rt = prod_df[['title_proc','desc_proc', 'pl_proc']]"
   ]
  },
  {
   "cell_type": "code",
   "execution_count": 123,
   "metadata": {},
   "outputs": [
    {
     "data": {
      "text/plain": [
       "<823x25262 sparse matrix of type '<class 'numpy.float64'>'\n",
       "\twith 50290 stored elements in Compressed Sparse Row format>"
      ]
     },
     "execution_count": 123,
     "metadata": {},
     "output_type": "execute_result"
    }
   ],
   "source": [
    "title_mat_df_rt = title_vec_model_final.transform(X_df_rt['title_proc'].fillna(''))\n",
    "desc_mat_df_rt = desc_vec_model_final.transform(X_df_rt['desc_proc'].fillna(''))\n",
    "pl_mat_df_rt= pl_vec_model_final.transform(X_df_rt['pl_proc'].fillna(''))\n",
    "subcat_mat_df_rt= subcat_vec_model_final.transform(X_df_rt['subcat_proc'].fillna(''))\n",
    "\n",
    "X_mat_prod_df = hstack((title_mat_df_rt, desc_mat_df_rt, subcat_mat_df_rt, pl_mat_df_rt))\n",
    "# X_mat_prod_df = hstack((title_mat_df_rt, desc_mat_df_rt, pl_mat_df_rt))\n",
    "\n",
    "X_mat_prod_df"
   ]
  },
  {
   "cell_type": "code",
   "execution_count": 134,
   "metadata": {},
   "outputs": [
    {
     "data": {
      "text/plain": [
       "(823, 25262)"
      ]
     },
     "execution_count": 134,
     "metadata": {},
     "output_type": "execute_result"
    }
   ],
   "source": [
    "X_mat_prod_df.shape"
   ]
  },
  {
   "cell_type": "code",
   "execution_count": 124,
   "metadata": {},
   "outputs": [],
   "source": [
    "prod_df['cat5_pred'] = lr_model_final.predict(X_mat_prod_df)\n",
    "prod_df['predict_proba'] =  lr_model_final.predict_proba(X_mat_prod_df).max(1)"
   ]
  },
  {
   "cell_type": "code",
   "execution_count": 125,
   "metadata": {},
   "outputs": [
    {
     "name": "stdout",
     "output_type": "stream",
     "text": [
      "Accuracy Score Is :  0.9465370595382746\n"
     ]
    }
   ],
   "source": [
    "print(\"Accuracy Score Is : \", accuracy_score(prod_df['cat5_tokens'], lr_model_final.predict(X_mat_prod_df)))"
   ]
  },
  {
   "cell_type": "code",
   "execution_count": 195,
   "metadata": {},
   "outputs": [],
   "source": [
    "#  df_review = prod_df[prod_df['cat5_tokens'] != prod_df['cat5_pred']]\n",
    "#  df_review.to_csv('prod_df_review.csv')"
   ]
  },
  {
   "cell_type": "code",
   "execution_count": null,
   "metadata": {},
   "outputs": [],
   "source": [
    "# prod_df['cat5_predict'] = lr_model_final.predict(X_mat_prod_df)\n",
    "# prod_df"
   ]
  },
  {
   "cell_type": "code",
   "execution_count": null,
   "metadata": {},
   "outputs": [],
   "source": [
    "# prod_df['check'] = prod_df['cat5_tokens'] == prod_df['cat5_predict']\n",
    "# prod_df['cat5_tokens'] == prod_df['cat5_predict']"
   ]
  },
  {
   "cell_type": "code",
   "execution_count": null,
   "metadata": {},
   "outputs": [],
   "source": [
    "# prod_df[prod_df.check == False]"
   ]
  },
  {
   "cell_type": "code",
   "execution_count": null,
   "metadata": {},
   "outputs": [],
   "source": [
    "# prod_df[prod_df.check == False].to_clipboard(index=False)"
   ]
  },
  {
   "cell_type": "code",
   "execution_count": null,
   "metadata": {},
   "outputs": [],
   "source": [
    "# prod_df[prod_df.check == True].to_clipboard(index=False)"
   ]
  },
  {
   "cell_type": "code",
   "execution_count": null,
   "metadata": {},
   "outputs": [],
   "source": [
    "# ## Loading prev cat5 Models\n",
    "\n",
    "# latest_title_vec_model = load('/Users/apoorvatiwari/Documents/Apps_RecSy/downtown-product-classifcation/cat_level3/Old_Files/models_Backup/08112022/vectoriser_models/title_tfidf_cat5_gd_ct_5.pkl')\n",
    "# latest_desc_vec_model = load('/Users/apoorvatiwari/Documents/Apps_RecSy/downtown-product-classifcation/cat_level3/Old_Files/models_Backup/08112022/vectoriser_models/desc_tfidf_cat5_gd_ct_5.pkl')\n",
    "# latest_pl_vec_model = load('/Users/apoorvatiwari/Documents/Apps_RecSy/downtown-product-classifcation/cat_level3/Old_Files/models_Backup/08112022/vectoriser_models/pl_tfidf_cat5_gd_ct_5.pkl')\n",
    "# # latest_subcat_vec_model = load('vectoriser_models/subcat_tfidf_cat5_gd_ct.pkl')\n",
    "# latest_lr_model = load('/Users/apoorvatiwari/Documents/Apps_RecSy/downtown-product-classifcation/cat_level3/Old_Files/models_Backup/08112022/classification_models/logistic_regression_model_cat5_gd_ct_5.pkl')"
   ]
  },
  {
   "cell_type": "code",
   "execution_count": null,
   "metadata": {},
   "outputs": [],
   "source": [
    "title_mat_df_rt = latest_title_vec_model.transform(X_df_rt['title_proc'].fillna(''))\n",
    "desc_mat_df_rt = latest_desc_vec_model.transform(X_df_rt['desc_proc'].fillna(''))\n",
    "pl_mat_df_rt= latest_pl_vec_model.transform(X_df_rt['pl_proc'].fillna(''))\n",
    "# subcat_mat_df_rt= latest_subcat_vec_model.transform(X_df_rt['subcat_proc'].fillna(''))\n",
    "\n",
    "# X_mat_prod_df = hstack((title_mat_df_rt, desc_mat_df_rt, subcat_mat_df_rt, pl_mat_df_rt))\n",
    "X_mat_prod_df = hstack((title_mat_df_rt, desc_mat_df_rt,  pl_mat_df_rt))\n",
    "\n",
    "X_mat_prod_df"
   ]
  },
  {
   "cell_type": "code",
   "execution_count": null,
   "metadata": {},
   "outputs": [],
   "source": [
    "print(\"Accuracy Score Is : \", accuracy_score(prod_df['cat5_tokens'], latest_lr_model.predict(X_mat_prod_df)))"
   ]
  },
  {
   "cell_type": "code",
   "execution_count": 1,
   "metadata": {},
   "outputs": [
    {
     "data": {
      "text/plain": [
       "0.025516403402187193"
      ]
     },
     "execution_count": 1,
     "metadata": {},
     "output_type": "execute_result"
    }
   ],
   "source": [
    "0.945321992709599 - 0.9198055893074119"
   ]
  },
  {
   "cell_type": "code",
   "execution_count": null,
   "metadata": {},
   "outputs": [],
   "source": []
  }
 ],
 "metadata": {
  "kernelspec": {
   "display_name": "Python 3.9.13 ('base')",
   "language": "python",
   "name": "python3"
  },
  "language_info": {
   "codemirror_mode": {
    "name": "ipython",
    "version": 3
   },
   "file_extension": ".py",
   "mimetype": "text/x-python",
   "name": "python",
   "nbconvert_exporter": "python",
   "pygments_lexer": "ipython3",
   "version": "3.9.13"
  },
  "orig_nbformat": 4,
  "vscode": {
   "interpreter": {
    "hash": "d8f46350a8bd583910db51a1d64064108b958bcbad0d091bd79d552637a4ab30"
   }
  }
 },
 "nbformat": 4,
 "nbformat_minor": 2
}

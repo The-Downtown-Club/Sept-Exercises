{
 "cells": [
  {
   "cell_type": "code",
   "execution_count": 9,
   "metadata": {},
   "outputs": [],
   "source": [
    "import pandas  as pd\n",
    "import numpy as np\n",
    "from scipy.sparse import hstack, vstack\n",
    "from sklearn.model_selection import train_test_split\n",
    "from sklearn.feature_extraction.text import TfidfVectorizer\n",
    "from sklearn.linear_model import LogisticRegression\n",
    "from sklearn.metrics import accuracy_score, roc_auc_score, precision_score, confusion_matrix, classification_report\n",
    "\n",
    "from sqlalchemy import create_engine\n",
    "from joblib import load\n",
    "from text_preproc_pipeline import preproc\n",
    "from env import *\n",
    "from multiprocessing import Pool, cpu_count\n",
    "import warnings\n",
    "warnings.filterwarnings(\"ignore\")"
   ]
  },
  {
   "cell_type": "code",
   "execution_count": 2,
   "metadata": {},
   "outputs": [
    {
     "data": {
      "text/plain": [
       "(30886, 15)"
      ]
     },
     "execution_count": 2,
     "metadata": {},
     "output_type": "execute_result"
    }
   ],
   "source": [
    "con = create_engine(PRIMARY_DATABASE_URI)\n",
    "\n",
    "\n",
    "prod_df2 = pd.read_sql(\"select shopify_product_id, id, title, store_id, category_id, category2_id, category3_id, category5_id, shopify_subcategory, description, page_link, openai_summary, price, is_deleted from products where is_deleted = False \", con=con)\n",
    "# cat3_df = pd.read_sql(\"select id, display_name, token_name from category3\",con=con).rename(columns={\"id\":\"category3_id\",\"display_name\":\"category3\"})\n",
    "\n",
    "cat5_df = pd.read_csv('cat5_df.csv')\n",
    "# prod_df = prod_df.merge(cat1_df).merge(cat2_df).merge(cat5_df)\n",
    "# prod_df = prod_df.merge(cat3_df).merge(cat5_df)\n",
    "store_df = pd.read_sql(\"select id, store_name from brands\", con=con).rename(columns={\"id\":\"store_id\"})\n",
    "\n",
    "prod_df2 = prod_df2.merge(store_df, on=['store_id'], how='left')\n",
    "prod_df2 = prod_df2[~(prod_df2.store_id == 581)]\n",
    "prod_df2 = prod_df2[~(prod_df2.store_id == 605)]\n",
    "prod_df2.shape"
   ]
  },
  {
   "cell_type": "code",
   "execution_count": 3,
   "metadata": {},
   "outputs": [
    {
     "data": {
      "text/plain": [
       "Index(['shopify_product_id', 'id', 'title', 'store_id', 'category_id',\n",
       "       'category2_id', 'category3_id', 'category5_id', 'shopify_subcategory',\n",
       "       'description', 'page_link', 'openai_summary', 'price', 'is_deleted',\n",
       "       'store_name'],\n",
       "      dtype='object')"
      ]
     },
     "execution_count": 3,
     "metadata": {},
     "output_type": "execute_result"
    }
   ],
   "source": [
    "prod_df2.columns"
   ]
  },
  {
   "cell_type": "code",
   "execution_count": 4,
   "metadata": {},
   "outputs": [],
   "source": [
    "prod_df2 = prod_df2.dropna(subset=['category5_id'])\n",
    "prod_df2['category5_token'] = prod_df2['category5_id'].apply(lambda x: cat5_df[cat5_df['category5_id'] == x]['category5_tokens'].values[0])\n",
    "prod_df3 = prod_df2[['shopify_product_id', 'title', 'page_link', 'description', 'shopify_subcategory', 'category5_token']]"
   ]
  },
  {
   "cell_type": "code",
   "execution_count": 44,
   "metadata": {},
   "outputs": [
    {
     "data": {
      "text/plain": [
       "(90292, 6)"
      ]
     },
     "execution_count": 44,
     "metadata": {},
     "output_type": "execute_result"
    }
   ],
   "source": [
    "# df_train = pd.read_csv(\"cat5_training_set_final_08112022.csv\")\n",
    "df_train = pd.read_json(\"cat5_training_set_final_08112022.json\", orient='split')\n",
    "df_train.shape"
   ]
  },
  {
   "cell_type": "code",
   "execution_count": 45,
   "metadata": {},
   "outputs": [
    {
     "data": {
      "text/plain": [
       "(121146, 6)"
      ]
     },
     "execution_count": 45,
     "metadata": {},
     "output_type": "execute_result"
    }
   ],
   "source": [
    "df_train2 = pd.concat([df_train, prod_df3])\n",
    "df_train2.shape"
   ]
  },
  {
   "cell_type": "code",
   "execution_count": 46,
   "metadata": {},
   "outputs": [
    {
     "data": {
      "text/plain": [
       "(93638, 6)"
      ]
     },
     "execution_count": 46,
     "metadata": {},
     "output_type": "execute_result"
    }
   ],
   "source": [
    "df_train3 = df_train2.drop_duplicates(subset=['shopify_product_id'], keep='last')\n",
    "df_train3.shape"
   ]
  },
  {
   "cell_type": "code",
   "execution_count": null,
   "metadata": {},
   "outputs": [],
   "source": [
    "new_cat_df"
   ]
  },
  {
   "cell_type": "code",
   "execution_count": 49,
   "metadata": {},
   "outputs": [],
   "source": [
    "# correcting the training set\n",
    "\n",
    "new_cat_df = pd.read_csv('correct_prod.csv')\n",
    "to_update_df = df_train3[df_train3['shopify_product_id'].isin(new_cat_df['shopify_product_id'])]\n",
    "to_update_df['category5_token'] = to_update_df['shopify_product_id'].apply(lambda x: new_cat_df[new_cat_df['shopify_product_id'] == x]['cat5_final'].values)\n",
    "df_train3 = pd.concat([df_train3, to_update_df])\n",
    "df_train3.drop_duplicates(subset=['shopify_product_id'], keep='last', inplace=True)"
   ]
  },
  {
   "cell_type": "code",
   "execution_count": 18,
   "metadata": {},
   "outputs": [],
   "source": [
    "def parallel_proc(df, fn, n_cores=5):\n",
    "    if cpu_count() < n_cores:\n",
    "        raise ValueError(\"The number of CPU's specified exceed the amount available\")\n",
    "\n",
    "    df_list = np.array_split(df, n_cores)\n",
    "    pool = Pool(n_cores)\n",
    "    res = pool.map(fn, df_list)\n",
    "    pool.close()\n",
    "    pool.join()\n",
    "    return pd.concat(res)"
   ]
  },
  {
   "cell_type": "code",
   "execution_count": null,
   "metadata": {},
   "outputs": [],
   "source": [
    "### tokenising the independent variables\n",
    "\n",
    "df_train3['title_proc'] = df_train3['title'].apply(lambda x: preproc(x))\n",
    "df_train3['desc_proc'] = df_train3['description'].apply(lambda x: preproc(x))\n",
    "df_train3['subcat_proc'] = df_train3['shopify_subcategory'].apply(lambda x: preproc(x))\n",
    "df_train3['pl_proc'] = df_train3['page_link'].apply(lambda x: preproc(x))"
   ]
  },
  {
   "cell_type": "code",
   "execution_count": 10,
   "metadata": {},
   "outputs": [],
   "source": [
    "### creating X (independent variables) and y (dependent variable) matrices\n",
    "\n",
    "X = df_train3[['title_proc','subcat_proc','desc_proc', 'pl_proc']]\n",
    "\n",
    "# X = df_train3[['title_proc',','desc_proc', 'pl_proc']]\n",
    "\n",
    "y = df_train3['category5_token']"
   ]
  },
  {
   "cell_type": "code",
   "execution_count": 11,
   "metadata": {},
   "outputs": [],
   "source": [
    "### Train/Test Split\n",
    "\n",
    "X_train, X_test, y_train, y_test = train_test_split(X,y, train_size=0.8, test_size=0.2, stratify=y, random_state=10)"
   ]
  },
  {
   "cell_type": "code",
   "execution_count": 12,
   "metadata": {},
   "outputs": [],
   "source": [
    "### Term-Frequency and Inverse document Frequency vectorizer with bigrams\n",
    "\n",
    "title_vec_model = TfidfVectorizer(max_df=0.3, min_df=0.0001, ngram_range = (1,1), stop_words = [\"english\"])\n",
    "desc_vec_model = TfidfVectorizer(max_df=0.3, min_df=0.0001, ngram_range = (1,1), stop_words = [\"english\"])\n",
    "subcat_vec_model = TfidfVectorizer(max_df=0.3, min_df=0.0001, ngram_range = (1,1), stop_words = [\"english\"])\n",
    "pl_vec_model = TfidfVectorizer(max_df=0.3, min_df=0.0001, ngram_range = (1,1), stop_words = [\"english\"])"
   ]
  },
  {
   "cell_type": "code",
   "execution_count": 13,
   "metadata": {},
   "outputs": [],
   "source": [
    "### Fitting the Vectorisers on dependent variables\n",
    "\n",
    "title_mat_train = title_vec_model.fit_transform(X_train['title_proc'].fillna(''))\n",
    "desc_mat_train = desc_vec_model.fit_transform(X_train['desc_proc'].fillna(''))\n",
    "subcat_mat_train = subcat_vec_model.fit_transform(X_train['subcat_proc'].fillna(''))\n",
    "pl_mat_train = pl_vec_model.fit_transform(X_train['pl_proc'].fillna(''))"
   ]
  },
  {
   "cell_type": "code",
   "execution_count": 14,
   "metadata": {},
   "outputs": [
    {
     "data": {
      "text/plain": [
       "<74910x25643 sparse matrix of type '<class 'numpy.float64'>'\n",
       "\twith 4458446 stored elements in Compressed Sparse Row format>"
      ]
     },
     "execution_count": 14,
     "metadata": {},
     "output_type": "execute_result"
    }
   ],
   "source": [
    "X_mat_train = hstack((title_mat_train, desc_mat_train, subcat_mat_train, pl_mat_train))\n",
    "# X_mat_train = hstack((title_mat_train, desc_mat_train, pl_mat_train))\n",
    "\n",
    "X_mat_train"
   ]
  },
  {
   "cell_type": "code",
   "execution_count": 15,
   "metadata": {},
   "outputs": [],
   "source": [
    "title_mat_test = title_vec_model.transform(X_test['title_proc'].fillna(''))\n",
    "desc_mat_test = desc_vec_model.transform(X_test['desc_proc'].fillna(''))\n",
    "subcat_mat_test = subcat_vec_model.transform(X_test['subcat_proc'].fillna(''))\n",
    "pl_mat_test = pl_vec_model.transform(X_test['pl_proc'].fillna(''))"
   ]
  },
  {
   "cell_type": "code",
   "execution_count": 16,
   "metadata": {},
   "outputs": [
    {
     "data": {
      "text/plain": [
       "<18728x25643 sparse matrix of type '<class 'numpy.float64'>'\n",
       "\twith 1114000 stored elements in Compressed Sparse Row format>"
      ]
     },
     "execution_count": 16,
     "metadata": {},
     "output_type": "execute_result"
    }
   ],
   "source": [
    "X_mat_test = hstack((title_mat_test, desc_mat_test, subcat_mat_test, pl_mat_test))\n",
    "# X_mat_test = hstack((title_mat_test, desc_mat_test, pl_mat_test))\n",
    "\n",
    "X_mat_test"
   ]
  },
  {
   "cell_type": "code",
   "execution_count": 17,
   "metadata": {},
   "outputs": [
    {
     "data": {
      "text/plain": [
       "LogisticRegression(n_jobs=6)"
      ]
     },
     "execution_count": 17,
     "metadata": {},
     "output_type": "execute_result"
    }
   ],
   "source": [
    "lr_model = LogisticRegression(n_jobs=6)\n",
    "\n",
    "lr_model.fit(X_mat_train, y_train)"
   ]
  },
  {
   "cell_type": "code",
   "execution_count": 18,
   "metadata": {},
   "outputs": [],
   "source": [
    "yhat = lr_model.predict(X_mat_test)"
   ]
  },
  {
   "cell_type": "code",
   "execution_count": 19,
   "metadata": {},
   "outputs": [
    {
     "name": "stdout",
     "output_type": "stream",
     "text": [
      "Accuracy Score Is :  0.9679624092268262\n"
     ]
    }
   ],
   "source": [
    "print(\"Accuracy Score Is : \", accuracy_score(y_test, yhat))\n",
    "# print(\"ROC_Score : \" +str(roc_auc_score(y_test, yhat,multi_class=\"ovr\")))\n",
    "# print('classification Score =','\\n', classification_report(y_test,yhat))\n",
    "# print(\"Confusion Matrix HeatMap : \\n\", confusion_matrix(y_test, yhat))"
   ]
  },
  {
   "cell_type": "markdown",
   "metadata": {},
   "source": [
    "### Building the final model"
   ]
  },
  {
   "cell_type": "code",
   "execution_count": 20,
   "metadata": {},
   "outputs": [],
   "source": [
    "X = pd.concat([X_train,X_test])\n",
    "y = pd.concat([y_train,y_test])"
   ]
  },
  {
   "cell_type": "code",
   "execution_count": 21,
   "metadata": {},
   "outputs": [
    {
     "data": {
      "text/html": [
       "<div>\n",
       "<style scoped>\n",
       "    .dataframe tbody tr th:only-of-type {\n",
       "        vertical-align: middle;\n",
       "    }\n",
       "\n",
       "    .dataframe tbody tr th {\n",
       "        vertical-align: top;\n",
       "    }\n",
       "\n",
       "    .dataframe thead th {\n",
       "        text-align: right;\n",
       "    }\n",
       "</style>\n",
       "<table border=\"1\" class=\"dataframe\">\n",
       "  <thead>\n",
       "    <tr style=\"text-align: right;\">\n",
       "      <th></th>\n",
       "      <th>title_proc</th>\n",
       "      <th>subcat_proc</th>\n",
       "      <th>desc_proc</th>\n",
       "      <th>pl_proc</th>\n",
       "    </tr>\n",
       "  </thead>\n",
       "  <tbody>\n",
       "    <tr>\n",
       "      <th>1951419</th>\n",
       "      <td>loungewear lazy lama round green printed botto...</td>\n",
       "      <td>nightsuit</td>\n",
       "      <td>made finest cotton classic never go wrong incl...</td>\n",
       "      <td>loungewear lazy lama round green printed botto...</td>\n",
       "    </tr>\n",
       "    <tr>\n",
       "      <th>561168</th>\n",
       "      <td>tot mom organic drink mix almond date jaggery</td>\n",
       "      <td>health supplement</td>\n",
       "      <td>tot mom almond date drink mix nutritious drink...</td>\n",
       "      <td>tot mom organic drink mix almond date jaggery</td>\n",
       "    </tr>\n",
       "    <tr>\n",
       "      <th>285244</th>\n",
       "      <td>cricket birthday theme cake</td>\n",
       "      <td>cake</td>\n",
       "      <td>minimum prep time hr theme cake cricket lover ...</td>\n",
       "      <td>cricket birthday theme cake</td>\n",
       "    </tr>\n",
       "    <tr>\n",
       "      <th>27364</th>\n",
       "      <td>fostino suspender dark green round neck shirt</td>\n",
       "      <td>shirt</td>\n",
       "      <td>fostino shirt great way add pop color wardrobe...</td>\n",
       "      <td>http fostino com product fostino suspender dar...</td>\n",
       "    </tr>\n",
       "    <tr>\n",
       "      <th>14943</th>\n",
       "      <td>floral printed tote bag</td>\n",
       "      <td>luggage bag shopping tote</td>\n",
       "      <td>description introducing extra large suitcase b...</td>\n",
       "      <td>http refash product floral printed tote bag ut...</td>\n",
       "    </tr>\n",
       "    <tr>\n",
       "      <th>...</th>\n",
       "      <td>...</td>\n",
       "      <td>...</td>\n",
       "      <td>...</td>\n",
       "      <td>...</td>\n",
       "    </tr>\n",
       "    <tr>\n",
       "      <th>17640</th>\n",
       "      <td>carmen carrot dress</td>\n",
       "      <td>dress</td>\n",
       "      <td>description endless summer would amazing fit l...</td>\n",
       "      <td>http refash product carmen carrot dress utm so...</td>\n",
       "    </tr>\n",
       "    <tr>\n",
       "      <th>12746</th>\n",
       "      <td>gold plated kundan maang tikka</td>\n",
       "      <td>none</td>\n",
       "      <td>polish gold plated stone kundan maang tikka le...</td>\n",
       "      <td>gold plated kundan maang tikka</td>\n",
       "    </tr>\n",
       "    <tr>\n",
       "      <th>13438</th>\n",
       "      <td>tinted solid men crew neck shirt</td>\n",
       "      <td>basic shirt</td>\n",
       "      <td>care instruction mild wash fit type regular fi...</td>\n",
       "      <td>http shoptinted com product tinted solid men c...</td>\n",
       "    </tr>\n",
       "    <tr>\n",
       "      <th>12133</th>\n",
       "      <td>yellow silk embroidery lehenga</td>\n",
       "      <td>none</td>\n",
       "      <td>lehenga fabric art silklehenga embroidery thre...</td>\n",
       "      <td>yellow silk embroidery lehenga</td>\n",
       "    </tr>\n",
       "    <tr>\n",
       "      <th>721087</th>\n",
       "      <td>men black self design sport jogging shoe</td>\n",
       "      <td>sport shoe</td>\n",
       "      <td>wear comfortable trendy sport shoe complete lo...</td>\n",
       "      <td>men black self design sport jogging shoe</td>\n",
       "    </tr>\n",
       "  </tbody>\n",
       "</table>\n",
       "<p>93638 rows × 4 columns</p>\n",
       "</div>"
      ],
      "text/plain": [
       "                                                title_proc  \\\n",
       "1951419  loungewear lazy lama round green printed botto...   \n",
       "561168       tot mom organic drink mix almond date jaggery   \n",
       "285244                         cricket birthday theme cake   \n",
       "27364        fostino suspender dark green round neck shirt   \n",
       "14943                              floral printed tote bag   \n",
       "...                                                    ...   \n",
       "17640                                  carmen carrot dress   \n",
       "12746                       gold plated kundan maang tikka   \n",
       "13438                     tinted solid men crew neck shirt   \n",
       "12133                       yellow silk embroidery lehenga   \n",
       "721087            men black self design sport jogging shoe   \n",
       "\n",
       "                       subcat_proc  \\\n",
       "1951419                  nightsuit   \n",
       "561168           health supplement   \n",
       "285244                        cake   \n",
       "27364                        shirt   \n",
       "14943    luggage bag shopping tote   \n",
       "...                            ...   \n",
       "17640                        dress   \n",
       "12746                         none   \n",
       "13438                  basic shirt   \n",
       "12133                         none   \n",
       "721087                  sport shoe   \n",
       "\n",
       "                                                 desc_proc  \\\n",
       "1951419  made finest cotton classic never go wrong incl...   \n",
       "561168   tot mom almond date drink mix nutritious drink...   \n",
       "285244   minimum prep time hr theme cake cricket lover ...   \n",
       "27364    fostino shirt great way add pop color wardrobe...   \n",
       "14943    description introducing extra large suitcase b...   \n",
       "...                                                    ...   \n",
       "17640    description endless summer would amazing fit l...   \n",
       "12746    polish gold plated stone kundan maang tikka le...   \n",
       "13438    care instruction mild wash fit type regular fi...   \n",
       "12133    lehenga fabric art silklehenga embroidery thre...   \n",
       "721087   wear comfortable trendy sport shoe complete lo...   \n",
       "\n",
       "                                                   pl_proc  \n",
       "1951419  loungewear lazy lama round green printed botto...  \n",
       "561168       tot mom organic drink mix almond date jaggery  \n",
       "285244                         cricket birthday theme cake  \n",
       "27364    http fostino com product fostino suspender dar...  \n",
       "14943    http refash product floral printed tote bag ut...  \n",
       "...                                                    ...  \n",
       "17640    http refash product carmen carrot dress utm so...  \n",
       "12746                       gold plated kundan maang tikka  \n",
       "13438    http shoptinted com product tinted solid men c...  \n",
       "12133                       yellow silk embroidery lehenga  \n",
       "721087            men black self design sport jogging shoe  \n",
       "\n",
       "[93638 rows x 4 columns]"
      ]
     },
     "execution_count": 21,
     "metadata": {},
     "output_type": "execute_result"
    }
   ],
   "source": [
    "X"
   ]
  },
  {
   "cell_type": "code",
   "execution_count": 22,
   "metadata": {},
   "outputs": [],
   "source": [
    "title_vec_model_final = TfidfVectorizer(max_df=0.3, min_df=0.0001)\n",
    "desc_vec_model_final = TfidfVectorizer(max_df=0.3, min_df=0.0001)\n",
    "subcat_vec_model_final = TfidfVectorizer(max_df=0.3, min_df=0.0001)\n",
    "pl_vec_model_final = TfidfVectorizer(max_df=0.3, min_df=0.0001)"
   ]
  },
  {
   "cell_type": "code",
   "execution_count": 23,
   "metadata": {},
   "outputs": [],
   "source": [
    "title_mat = title_vec_model_final.fit_transform(X['title_proc'].fillna(''))\n",
    "desc_mat = desc_vec_model_final.fit_transform(X['desc_proc'].fillna(''))\n",
    "subcat_mat = subcat_vec_model_final.fit_transform(X['subcat_proc'].fillna(''))\n",
    "pl_mat = pl_vec_model_final.fit_transform(X['pl_proc'].fillna(''))"
   ]
  },
  {
   "cell_type": "code",
   "execution_count": 24,
   "metadata": {},
   "outputs": [
    {
     "data": {
      "text/plain": [
       "<93638x25262 sparse matrix of type '<class 'numpy.float64'>'\n",
       "\twith 5570695 stored elements in Compressed Sparse Row format>"
      ]
     },
     "execution_count": 24,
     "metadata": {},
     "output_type": "execute_result"
    }
   ],
   "source": [
    "X_mat = hstack((title_mat, desc_mat, subcat_mat, pl_mat))\n",
    "# X_mat = hstack((title_mat, desc_mat, pl_mat))\n",
    "X_mat"
   ]
  },
  {
   "cell_type": "code",
   "execution_count": 25,
   "metadata": {},
   "outputs": [
    {
     "data": {
      "text/plain": [
       "LogisticRegression(n_jobs=6)"
      ]
     },
     "execution_count": 25,
     "metadata": {},
     "output_type": "execute_result"
    }
   ],
   "source": [
    "lr_model_final = LogisticRegression(n_jobs=6)\n",
    "lr_model_final.fit(X_mat, y)"
   ]
  },
  {
   "cell_type": "code",
   "execution_count": 26,
   "metadata": {},
   "outputs": [
    {
     "name": "stdout",
     "output_type": "stream",
     "text": [
      "Accuracy Score Is :  0.9902710438070015\n"
     ]
    }
   ],
   "source": [
    "yhat = lr_model_final.predict(X_mat)\n",
    "print(\"Accuracy Score Is : \", accuracy_score(y, yhat))\n",
    "# print(\"ROC_Score : \" +str(roc_auc_score(y, lr_model_final.predict(X_mat))))\n",
    "# al.predict_proba(X_mat),multi_class=\"ovr\")))\n",
    "# print('classification Score =','\\n', classification_report(y,yhat))\n",
    "# print(\"Confusion Matrix HeatMap : \\n\", confusion_matrix(y, yhat))"
   ]
  },
  {
   "cell_type": "markdown",
   "metadata": {},
   "source": [
    "### Exporting the model"
   ]
  },
  {
   "cell_type": "code",
   "execution_count": 28,
   "metadata": {},
   "outputs": [
    {
     "data": {
      "text/plain": [
       "['classification_models/logistic_regression_model_cat5_v4_1.pkl']"
      ]
     },
     "execution_count": 28,
     "metadata": {},
     "output_type": "execute_result"
    }
   ],
   "source": [
    "import joblib\n",
    "\n",
    "joblib.dump(title_vec_model_final,'vectoriser_models/title_tfidf_cat5_v4_1.pkl')\n",
    "joblib.dump(desc_vec_model_final,'vectoriser_models/desc_tfidf_cat5_v4_1.pkl')\n",
    "joblib.dump(subcat_vec_model_final,'vectoriser_models/subcat_tfidf_cat5_v4_1.pkl')\n",
    "joblib.dump(pl_vec_model_final,'vectoriser_models/pl_tfidf_cat5_v4_1.pkl')\n",
    "joblib.dump(lr_model_final,'classification_models/logistic_regression_model_cat5_v4_1.pkl')"
   ]
  },
  {
   "cell_type": "markdown",
   "metadata": {},
   "source": [
    "### Testing on baseline"
   ]
  },
  {
   "cell_type": "code",
   "execution_count": 184,
   "metadata": {},
   "outputs": [
    {
     "data": {
      "text/plain": [
       "(823, 13)"
      ]
     },
     "execution_count": 184,
     "metadata": {},
     "output_type": "execute_result"
    }
   ],
   "source": [
    "# prod_df = pd.read_csv(\"df_baseline_trainingset.csv\").rename(columns={'id':'_id', 'store_id':'_store_id', 'handle':'page_link', 'body_html':'description', 'product_type' :'shopify_subcategory'})\n",
    "prod_df = pd.read_csv(\"baseline_14112022.csv\").rename(columns={'id':'_id', 'store_id':'_store_id', 'handle':'page_link', 'body_html':'description', 'product_type' :'shopify_subcategory'})\n",
    "\n",
    "prod_df.shape"
   ]
  },
  {
   "cell_type": "code",
   "execution_count": 185,
   "metadata": {},
   "outputs": [],
   "source": [
    "prod_df['title_proc'] = prod_df['title'].apply(lambda x: preproc(x))\n",
    "prod_df['desc_proc'] = prod_df['description'].apply(lambda x: preproc(x))\n",
    "prod_df['subcat_proc'] = prod_df['shopify_subcategory'].apply(lambda x: preproc(x))\n",
    "prod_df['pl_proc'] = prod_df['page_link'].str.split('/products/',expand=True)[1].apply(lambda x: preproc(x))"
   ]
  },
  {
   "cell_type": "code",
   "execution_count": 186,
   "metadata": {},
   "outputs": [],
   "source": [
    "X_df_rt = prod_df[['title_proc','subcat_proc','desc_proc', 'pl_proc']]\n",
    "# X_df_rt = prod_df[['title_proc','desc_proc', 'pl_proc']]"
   ]
  },
  {
   "cell_type": "code",
   "execution_count": 187,
   "metadata": {},
   "outputs": [
    {
     "data": {
      "text/plain": [
       "<823x25262 sparse matrix of type '<class 'numpy.float64'>'\n",
       "\twith 50290 stored elements in Compressed Sparse Row format>"
      ]
     },
     "execution_count": 187,
     "metadata": {},
     "output_type": "execute_result"
    }
   ],
   "source": [
    "title_mat_df_rt = title_vec_model_final.transform(X_df_rt['title_proc'].fillna(''))\n",
    "desc_mat_df_rt = desc_vec_model_final.transform(X_df_rt['desc_proc'].fillna(''))\n",
    "pl_mat_df_rt= pl_vec_model_final.transform(X_df_rt['pl_proc'].fillna(''))\n",
    "subcat_mat_df_rt= subcat_vec_model_final.transform(X_df_rt['subcat_proc'].fillna(''))\n",
    "\n",
    "X_mat_prod_df = hstack((title_mat_df_rt, desc_mat_df_rt, subcat_mat_df_rt, pl_mat_df_rt))\n",
    "# X_mat_prod_df = hstack((title_mat_df_rt, desc_mat_df_rt, pl_mat_df_rt))\n",
    "\n",
    "X_mat_prod_df"
   ]
  },
  {
   "cell_type": "code",
   "execution_count": 190,
   "metadata": {},
   "outputs": [],
   "source": [
    "prod_df['cat5_pred'] = lr_model_final.predict(X_mat_prod_df)\n",
    "prod_df['predict_proba'] =  lr_model_final.predict_proba(X_mat_prod_df).max(1)"
   ]
  },
  {
   "cell_type": "code",
   "execution_count": 192,
   "metadata": {},
   "outputs": [
    {
     "name": "stdout",
     "output_type": "stream",
     "text": [
      "Accuracy Score Is :  0.8918590522478737\n"
     ]
    }
   ],
   "source": [
    "print(\"Accuracy Score Is : \", accuracy_score(prod_df['cat5_tokens'], lr_model_final.predict(X_mat_prod_df)))"
   ]
  },
  {
   "cell_type": "code",
   "execution_count": 195,
   "metadata": {},
   "outputs": [],
   "source": [
    "#  df_review = prod_df[prod_df['cat5_tokens'] != prod_df['cat5_pred']]\n",
    "#  df_review.to_csv('prod_df_review.csv')"
   ]
  },
  {
   "cell_type": "code",
   "execution_count": null,
   "metadata": {},
   "outputs": [],
   "source": [
    "# prod_df['cat5_predict'] = lr_model_final.predict(X_mat_prod_df)\n",
    "# prod_df"
   ]
  },
  {
   "cell_type": "code",
   "execution_count": null,
   "metadata": {},
   "outputs": [],
   "source": [
    "# prod_df['check'] = prod_df['cat5_tokens'] == prod_df['cat5_predict']\n",
    "# prod_df['cat5_tokens'] == prod_df['cat5_predict']"
   ]
  },
  {
   "cell_type": "code",
   "execution_count": null,
   "metadata": {},
   "outputs": [],
   "source": [
    "# prod_df[prod_df.check == False]"
   ]
  },
  {
   "cell_type": "code",
   "execution_count": null,
   "metadata": {},
   "outputs": [],
   "source": [
    "# prod_df[prod_df.check == False].to_clipboard(index=False)"
   ]
  },
  {
   "cell_type": "code",
   "execution_count": null,
   "metadata": {},
   "outputs": [],
   "source": [
    "# prod_df[prod_df.check == True].to_clipboard(index=False)"
   ]
  },
  {
   "cell_type": "code",
   "execution_count": null,
   "metadata": {},
   "outputs": [],
   "source": [
    "# ## Loading prev cat5 Models\n",
    "\n",
    "# latest_title_vec_model = load('/Users/apoorvatiwari/Documents/Apps_RecSy/downtown-product-classifcation/cat_level3/Old_Files/models_Backup/08112022/vectoriser_models/title_tfidf_cat5_gd_ct_5.pkl')\n",
    "# latest_desc_vec_model = load('/Users/apoorvatiwari/Documents/Apps_RecSy/downtown-product-classifcation/cat_level3/Old_Files/models_Backup/08112022/vectoriser_models/desc_tfidf_cat5_gd_ct_5.pkl')\n",
    "# latest_pl_vec_model = load('/Users/apoorvatiwari/Documents/Apps_RecSy/downtown-product-classifcation/cat_level3/Old_Files/models_Backup/08112022/vectoriser_models/pl_tfidf_cat5_gd_ct_5.pkl')\n",
    "# # latest_subcat_vec_model = load('vectoriser_models/subcat_tfidf_cat5_gd_ct.pkl')\n",
    "# latest_lr_model = load('/Users/apoorvatiwari/Documents/Apps_RecSy/downtown-product-classifcation/cat_level3/Old_Files/models_Backup/08112022/classification_models/logistic_regression_model_cat5_gd_ct_5.pkl')"
   ]
  },
  {
   "cell_type": "code",
   "execution_count": null,
   "metadata": {},
   "outputs": [],
   "source": [
    "title_mat_df_rt = latest_title_vec_model.transform(X_df_rt['title_proc'].fillna(''))\n",
    "desc_mat_df_rt = latest_desc_vec_model.transform(X_df_rt['desc_proc'].fillna(''))\n",
    "pl_mat_df_rt= latest_pl_vec_model.transform(X_df_rt['pl_proc'].fillna(''))\n",
    "# subcat_mat_df_rt= latest_subcat_vec_model.transform(X_df_rt['subcat_proc'].fillna(''))\n",
    "\n",
    "# X_mat_prod_df = hstack((title_mat_df_rt, desc_mat_df_rt, subcat_mat_df_rt, pl_mat_df_rt))\n",
    "X_mat_prod_df = hstack((title_mat_df_rt, desc_mat_df_rt,  pl_mat_df_rt))\n",
    "\n",
    "X_mat_prod_df"
   ]
  },
  {
   "cell_type": "code",
   "execution_count": null,
   "metadata": {},
   "outputs": [],
   "source": [
    "print(\"Accuracy Score Is : \", accuracy_score(prod_df['cat5_tokens'], latest_lr_model.predict(X_mat_prod_df)))"
   ]
  },
  {
   "cell_type": "code",
   "execution_count": 1,
   "metadata": {},
   "outputs": [
    {
     "data": {
      "text/plain": [
       "0.025516403402187193"
      ]
     },
     "execution_count": 1,
     "metadata": {},
     "output_type": "execute_result"
    }
   ],
   "source": [
    "0.945321992709599 - 0.9198055893074119"
   ]
  },
  {
   "cell_type": "code",
   "execution_count": null,
   "metadata": {},
   "outputs": [],
   "source": []
  }
 ],
 "metadata": {
  "kernelspec": {
   "display_name": "Python 3.9.13 ('base')",
   "language": "python",
   "name": "python3"
  },
  "language_info": {
   "codemirror_mode": {
    "name": "ipython",
    "version": 3
   },
   "file_extension": ".py",
   "mimetype": "text/x-python",
   "name": "python",
   "nbconvert_exporter": "python",
   "pygments_lexer": "ipython3",
   "version": "3.9.13"
  },
  "orig_nbformat": 4,
  "vscode": {
   "interpreter": {
    "hash": "d8f46350a8bd583910db51a1d64064108b958bcbad0d091bd79d552637a4ab30"
   }
  }
 },
 "nbformat": 4,
 "nbformat_minor": 2
}

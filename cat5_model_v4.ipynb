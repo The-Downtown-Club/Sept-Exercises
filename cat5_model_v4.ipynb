{
 "cells": [
  {
   "cell_type": "code",
   "execution_count": 13,
   "metadata": {},
   "outputs": [],
   "source": [
    "from multiprocessing import Pool, cpu_count\n",
    "import pandas  as pd\n",
    "import numpy as np\n",
    "from scipy.sparse import hstack, vstack\n",
    "from sklearn.model_selection import train_test_split\n",
    "\n",
    "from text_preproc_pipeline import preproc\n",
    "from sklearn.feature_extraction.text import TfidfVectorizer\n",
    "from sklearn.linear_model import LogisticRegression\n",
    "\n",
    "\n",
    "from sqlalchemy import create_engine\n",
    "from joblib import load\n",
    "\n",
    "from sklearn.metrics import accuracy_score, roc_auc_score, precision_score, confusion_matrix, classification_report\n",
    "\n",
    "\n",
    "from env import *\n"
   ]
  },
  {
   "cell_type": "code",
   "execution_count": 155,
   "metadata": {},
   "outputs": [
    {
     "data": {
      "text/plain": [
       "(30886, 15)"
      ]
     },
     "execution_count": 155,
     "metadata": {},
     "output_type": "execute_result"
    }
   ],
   "source": [
    "con = create_engine(PRIMARY_DATABASE_URI)\n",
    "\n",
    "\n",
    "prod_df2 = pd.read_sql(\"select shopify_product_id, id, title, store_id, category_id, category2_id, category3_id, category5_id, shopify_subcategory, description, page_link, openai_summary, price, is_deleted from products where is_deleted = False \", con=con)\n",
    "# cat3_df = pd.read_sql(\"select id, display_name, token_name from category3\",con=con).rename(columns={\"id\":\"category3_id\",\"display_name\":\"category3\"})\n",
    "\n",
    "cat5_df = pd.read_csv('cat5_df.csv')\n",
    "# prod_df = prod_df.merge(cat1_df).merge(cat2_df).merge(cat5_df)\n",
    "# prod_df = prod_df.merge(cat3_df).merge(cat5_df)\n",
    "store_df = pd.read_sql(\"select id, store_name from brands\", con=con).rename(columns={\"id\":\"store_id\"})\n",
    "\n",
    "prod_df2 = prod_df2.merge(store_df, on=['store_id'], how='left')\n",
    "prod_df2 = prod_df2[~(prod_df2.store_id == 581)]\n",
    "prod_df2 = prod_df2[~(prod_df2.store_id == 605)]\n",
    "prod_df2.shape"
   ]
  },
  {
   "cell_type": "code",
   "execution_count": 47,
   "metadata": {},
   "outputs": [
    {
     "data": {
      "text/plain": [
       "Index(['shopify_product_id', 'id', 'title', 'store_id', 'category_id',\n",
       "       'category2_id', 'category3_id', 'category5_id', 'shopify_subcategory',\n",
       "       'description', 'page_link', 'openai_summary', 'price', 'is_deleted',\n",
       "       'store_name'],\n",
       "      dtype='object')"
      ]
     },
     "execution_count": 47,
     "metadata": {},
     "output_type": "execute_result"
    }
   ],
   "source": [
    "prod_df2.columns"
   ]
  },
  {
   "cell_type": "code",
   "execution_count": 158,
   "metadata": {},
   "outputs": [],
   "source": [
    "prod_df2 = prod_df2.dropna(subset=['category5_id'])\n",
    "prod_df2['category5_token'] = prod_df2['category5_id'].apply(lambda x: cat5_df[cat5_df['category5_id'] == x]['category5_tokens'].values[0])\n",
    "prod_df3 = prod_df2[['shopify_product_id', 'title', 'page_link', 'description', 'shopify_subcategory', 'category5_token']]"
   ]
  },
  {
   "cell_type": "code",
   "execution_count": 162,
   "metadata": {},
   "outputs": [
    {
     "data": {
      "text/plain": [
       "(90292, 6)"
      ]
     },
     "execution_count": 162,
     "metadata": {},
     "output_type": "execute_result"
    }
   ],
   "source": [
    "# df_train = pd.read_csv(\"cat5_training_set_final_08112022.csv\")\n",
    "df_train = pd.read_json(\"cat5_training_set_final_08112022.json\", orient='split')\n",
    "df_train.shape"
   ]
  },
  {
   "cell_type": "code",
   "execution_count": 163,
   "metadata": {},
   "outputs": [
    {
     "data": {
      "text/plain": [
       "(121146, 6)"
      ]
     },
     "execution_count": 163,
     "metadata": {},
     "output_type": "execute_result"
    }
   ],
   "source": [
    "df_train2 = pd.concat([df_train, prod_df3])\n",
    "df_train2.shape"
   ]
  },
  {
   "cell_type": "code",
   "execution_count": 165,
   "metadata": {},
   "outputs": [
    {
     "data": {
      "text/plain": [
       "(93638, 6)"
      ]
     },
     "execution_count": 165,
     "metadata": {},
     "output_type": "execute_result"
    }
   ],
   "source": [
    "df_train3 = df_train2.drop_duplicates(subset=['shopify_product_id'], keep='last')\n",
    "df_train3.shape"
   ]
  },
  {
   "cell_type": "code",
   "execution_count": 18,
   "metadata": {},
   "outputs": [],
   "source": [
    "def parallel_proc(df, fn, n_cores=5):\n",
    "    if cpu_count() < n_cores:\n",
    "        raise ValueError(\"The number of CPU's specified exceed the amount available\")\n",
    "\n",
    "    df_list = np.array_split(df, n_cores)\n",
    "    pool = Pool(n_cores)\n",
    "    res = pool.map(fn, df_list)\n",
    "    pool.close()\n",
    "    pool.join()\n",
    "    return pd.concat(res)"
   ]
  },
  {
   "cell_type": "code",
   "execution_count": 166,
   "metadata": {},
   "outputs": [
    {
     "name": "stderr",
     "output_type": "stream",
     "text": [
      "C:\\Users\\Vijay\\AppData\\Local\\Temp\\ipykernel_2984\\3377908811.py:3: SettingWithCopyWarning: \n",
      "A value is trying to be set on a copy of a slice from a DataFrame.\n",
      "Try using .loc[row_indexer,col_indexer] = value instead\n",
      "\n",
      "See the caveats in the documentation: https://pandas.pydata.org/pandas-docs/stable/user_guide/indexing.html#returning-a-view-versus-a-copy\n",
      "  df_train3['title_proc'] = df_train3['title'].apply(lambda x: preproc(x))\n",
      "C:\\Users\\Vijay\\AppData\\Local\\Temp\\ipykernel_2984\\3377908811.py:4: SettingWithCopyWarning: \n",
      "A value is trying to be set on a copy of a slice from a DataFrame.\n",
      "Try using .loc[row_indexer,col_indexer] = value instead\n",
      "\n",
      "See the caveats in the documentation: https://pandas.pydata.org/pandas-docs/stable/user_guide/indexing.html#returning-a-view-versus-a-copy\n",
      "  df_train3['desc_proc'] = df_train3['description'].apply(lambda x: preproc(x))\n",
      "C:\\Users\\Vijay\\AppData\\Local\\Temp\\ipykernel_2984\\3377908811.py:5: SettingWithCopyWarning: \n",
      "A value is trying to be set on a copy of a slice from a DataFrame.\n",
      "Try using .loc[row_indexer,col_indexer] = value instead\n",
      "\n",
      "See the caveats in the documentation: https://pandas.pydata.org/pandas-docs/stable/user_guide/indexing.html#returning-a-view-versus-a-copy\n",
      "  df_train3['subcat_proc'] = df_train3['shopify_subcategory'].apply(lambda x: preproc(x))\n",
      "C:\\Users\\Vijay\\AppData\\Local\\Temp\\ipykernel_2984\\3377908811.py:6: SettingWithCopyWarning: \n",
      "A value is trying to be set on a copy of a slice from a DataFrame.\n",
      "Try using .loc[row_indexer,col_indexer] = value instead\n",
      "\n",
      "See the caveats in the documentation: https://pandas.pydata.org/pandas-docs/stable/user_guide/indexing.html#returning-a-view-versus-a-copy\n",
      "  df_train3['pl_proc'] = df_train3['page_link'].apply(lambda x: preproc(x))\n"
     ]
    }
   ],
   "source": [
    "### tokenising the independent variables\n",
    "\n",
    "df_train3['title_proc'] = df_train3['title'].apply(lambda x: preproc(x))\n",
    "df_train3['desc_proc'] = df_train3['description'].apply(lambda x: preproc(x))\n",
    "df_train3['subcat_proc'] = df_train3['shopify_subcategory'].apply(lambda x: preproc(x))\n",
    "df_train3['pl_proc'] = df_train3['page_link'].apply(lambda x: preproc(x))\n"
   ]
  },
  {
   "cell_type": "code",
   "execution_count": 167,
   "metadata": {},
   "outputs": [],
   "source": [
    "### creating X (independent variables) and y (dependent variable) matrices\n",
    "\n",
    "X = df_train3[['title_proc','subcat_proc','desc_proc', 'pl_proc']]\n",
    "\n",
    "# X = df_train3[['title_proc',','desc_proc', 'pl_proc']]\n",
    "\n",
    "y = df_train3['category5_token']"
   ]
  },
  {
   "cell_type": "code",
   "execution_count": 168,
   "metadata": {},
   "outputs": [],
   "source": [
    "### Train/Test Split\n",
    "\n",
    "X_train, X_test, y_train, y_test = train_test_split(X,y, train_size=0.8, test_size=0.2, stratify=y, random_state=10)"
   ]
  },
  {
   "cell_type": "code",
   "execution_count": 169,
   "metadata": {},
   "outputs": [],
   "source": [
    "### Term-Frequency and Inverse document Frequency vectorizer with bigrams\n",
    "\n",
    "title_vec_model = TfidfVectorizer(max_df=0.3, min_df=0.0001, ngram_range = (1,1), stop_words = [\"english\"])\n",
    "desc_vec_model = TfidfVectorizer(max_df=0.3, min_df=0.0001, ngram_range = (1,1), stop_words = [\"english\"])\n",
    "subcat_vec_model = TfidfVectorizer(max_df=0.3, min_df=0.0001, ngram_range = (1,1), stop_words = [\"english\"])\n",
    "pl_vec_model = TfidfVectorizer(max_df=0.3, min_df=0.0001, ngram_range = (1,1), stop_words = [\"english\"])"
   ]
  },
  {
   "cell_type": "code",
   "execution_count": 170,
   "metadata": {},
   "outputs": [],
   "source": [
    "### Fitting the Vectorisers on dependent variables\n",
    "\n",
    "title_mat_train = title_vec_model.fit_transform(X_train['title_proc'].fillna(''))\n",
    "desc_mat_train = desc_vec_model.fit_transform(X_train['desc_proc'].fillna(''))\n",
    "subcat_mat_train = subcat_vec_model.fit_transform(X_train['subcat_proc'].fillna(''))\n",
    "pl_mat_train = pl_vec_model.fit_transform(X_train['pl_proc'].fillna(''))"
   ]
  },
  {
   "cell_type": "code",
   "execution_count": 171,
   "metadata": {},
   "outputs": [
    {
     "data": {
      "text/plain": [
       "<74910x25650 sparse matrix of type '<class 'numpy.float64'>'\n",
       "\twith 4465485 stored elements in Compressed Sparse Row format>"
      ]
     },
     "execution_count": 171,
     "metadata": {},
     "output_type": "execute_result"
    }
   ],
   "source": [
    "X_mat_train = hstack((title_mat_train, desc_mat_train, subcat_mat_train, pl_mat_train))\n",
    "# X_mat_train = hstack((title_mat_train, desc_mat_train, pl_mat_train))\n",
    "\n",
    "X_mat_train"
   ]
  },
  {
   "cell_type": "code",
   "execution_count": 172,
   "metadata": {},
   "outputs": [],
   "source": [
    "title_mat_test = title_vec_model.transform(X_test['title_proc'].fillna(''))\n",
    "desc_mat_test = desc_vec_model.transform(X_test['desc_proc'].fillna(''))\n",
    "subcat_mat_test = subcat_vec_model.transform(X_test['subcat_proc'].fillna(''))\n",
    "pl_mat_test = pl_vec_model.transform(X_test['pl_proc'].fillna(''))"
   ]
  },
  {
   "cell_type": "code",
   "execution_count": 173,
   "metadata": {},
   "outputs": [
    {
     "data": {
      "text/plain": [
       "<18728x25650 sparse matrix of type '<class 'numpy.float64'>'\n",
       "\twith 1106941 stored elements in Compressed Sparse Row format>"
      ]
     },
     "execution_count": 173,
     "metadata": {},
     "output_type": "execute_result"
    }
   ],
   "source": [
    "X_mat_test = hstack((title_mat_test, desc_mat_test, subcat_mat_test, pl_mat_test))\n",
    "# X_mat_test = hstack((title_mat_test, desc_mat_test, pl_mat_test))\n",
    "\n",
    "X_mat_test"
   ]
  },
  {
   "cell_type": "code",
   "execution_count": 174,
   "metadata": {},
   "outputs": [
    {
     "data": {
      "text/plain": [
       "LogisticRegression(n_jobs=6)"
      ]
     },
     "execution_count": 174,
     "metadata": {},
     "output_type": "execute_result"
    }
   ],
   "source": [
    "lr_model = LogisticRegression(n_jobs=6)\n",
    "\n",
    "lr_model.fit(X_mat_train, y_train)"
   ]
  },
  {
   "cell_type": "code",
   "execution_count": 175,
   "metadata": {},
   "outputs": [],
   "source": [
    "yhat = lr_model.predict(X_mat_test)"
   ]
  },
  {
   "cell_type": "code",
   "execution_count": 176,
   "metadata": {},
   "outputs": [
    {
     "name": "stdout",
     "output_type": "stream",
     "text": [
      "Accuracy Score Is :  0.9678556172575822\n"
     ]
    }
   ],
   "source": [
    "print(\"Accuracy Score Is : \", accuracy_score(y_test, yhat))\n",
    "# print(\"ROC_Score : \" +str(roc_auc_score(y_test, yhat,multi_class=\"ovr\")))\n",
    "# print('classification Score =','\\n', classification_report(y_test,yhat))\n",
    "# print(\"Confusion Matrix HeatMap : \\n\", confusion_matrix(y_test, yhat))"
   ]
  },
  {
   "cell_type": "code",
   "execution_count": 30,
   "metadata": {},
   "outputs": [],
   "source": [
    "### Building the final model"
   ]
  },
  {
   "cell_type": "code",
   "execution_count": 177,
   "metadata": {},
   "outputs": [],
   "source": [
    "X = pd.concat([X_train,X_test])\n",
    "y = pd.concat([y_train,y_test])"
   ]
  },
  {
   "cell_type": "code",
   "execution_count": 178,
   "metadata": {},
   "outputs": [
    {
     "data": {
      "text/html": [
       "<div>\n",
       "<style scoped>\n",
       "    .dataframe tbody tr th:only-of-type {\n",
       "        vertical-align: middle;\n",
       "    }\n",
       "\n",
       "    .dataframe tbody tr th {\n",
       "        vertical-align: top;\n",
       "    }\n",
       "\n",
       "    .dataframe thead th {\n",
       "        text-align: right;\n",
       "    }\n",
       "</style>\n",
       "<table border=\"1\" class=\"dataframe\">\n",
       "  <thead>\n",
       "    <tr style=\"text-align: right;\">\n",
       "      <th></th>\n",
       "      <th>title_proc</th>\n",
       "      <th>subcat_proc</th>\n",
       "      <th>desc_proc</th>\n",
       "      <th>pl_proc</th>\n",
       "    </tr>\n",
       "  </thead>\n",
       "  <tbody>\n",
       "    <tr>\n",
       "      <th>1951419</th>\n",
       "      <td>loungewear lazy lama round green printed botto...</td>\n",
       "      <td>nightsuit</td>\n",
       "      <td>made finest cotton classic never go wrong incl...</td>\n",
       "      <td>loungewear lazy lama round green printed botto...</td>\n",
       "    </tr>\n",
       "    <tr>\n",
       "      <th>561168</th>\n",
       "      <td>tot mom organic drink mix almond date jaggery</td>\n",
       "      <td>health supplement</td>\n",
       "      <td>tot mom almond date drink mix nutritious drink...</td>\n",
       "      <td>tot mom organic drink mix almond date jaggery</td>\n",
       "    </tr>\n",
       "    <tr>\n",
       "      <th>285244</th>\n",
       "      <td>cricket birthday theme cake</td>\n",
       "      <td>cake</td>\n",
       "      <td>minimum prep time hr theme cake cricket lover ...</td>\n",
       "      <td>cricket birthday theme cake</td>\n",
       "    </tr>\n",
       "    <tr>\n",
       "      <th>18980</th>\n",
       "      <td>slay men edition leaf printed shirt</td>\n",
       "      <td>shirt</td>\n",
       "      <td>get first purchase use code slayme checkout pl...</td>\n",
       "      <td>http clothingtoslay product slay men edition l...</td>\n",
       "    </tr>\n",
       "    <tr>\n",
       "      <th>13121</th>\n",
       "      <td>micro print tote bag</td>\n",
       "      <td>luggage bag shopping tote</td>\n",
       "      <td>description introducing extra large suitcase b...</td>\n",
       "      <td>http refash product micro print tote bag utm s...</td>\n",
       "    </tr>\n",
       "    <tr>\n",
       "      <th>...</th>\n",
       "      <td>...</td>\n",
       "      <td>...</td>\n",
       "      <td>...</td>\n",
       "      <td>...</td>\n",
       "    </tr>\n",
       "    <tr>\n",
       "      <th>17476</th>\n",
       "      <td>white front slit maxi dress</td>\n",
       "      <td></td>\n",
       "      <td>make entrance chic style wearing front slit ma...</td>\n",
       "      <td>http enzeo product white front slit maxi dress...</td>\n",
       "    </tr>\n",
       "    <tr>\n",
       "      <th>12746</th>\n",
       "      <td>gold plated kundan maang tikka</td>\n",
       "      <td>none</td>\n",
       "      <td>polish gold plated stone kundan maang tikka le...</td>\n",
       "      <td>gold plated kundan maang tikka</td>\n",
       "    </tr>\n",
       "    <tr>\n",
       "      <th>11316</th>\n",
       "      <td>rough neck full sleeve shirt</td>\n",
       "      <td>basic shirt</td>\n",
       "      <td>care instruction mild wash fit type slim fit f...</td>\n",
       "      <td>http shoptinted com product tshirt utm source ...</td>\n",
       "    </tr>\n",
       "    <tr>\n",
       "      <th>12133</th>\n",
       "      <td>yellow silk embroidery lehenga</td>\n",
       "      <td>none</td>\n",
       "      <td>lehenga fabric art silklehenga embroidery thre...</td>\n",
       "      <td>yellow silk embroidery lehenga</td>\n",
       "    </tr>\n",
       "    <tr>\n",
       "      <th>721087</th>\n",
       "      <td>men black self design sport jogging shoe</td>\n",
       "      <td>sport shoe</td>\n",
       "      <td>wear comfortable trendy sport shoe complete lo...</td>\n",
       "      <td>men black self design sport jogging shoe</td>\n",
       "    </tr>\n",
       "  </tbody>\n",
       "</table>\n",
       "<p>93638 rows × 4 columns</p>\n",
       "</div>"
      ],
      "text/plain": [
       "                                                title_proc  \\\n",
       "1951419  loungewear lazy lama round green printed botto...   \n",
       "561168       tot mom organic drink mix almond date jaggery   \n",
       "285244                         cricket birthday theme cake   \n",
       "18980                  slay men edition leaf printed shirt   \n",
       "13121                                 micro print tote bag   \n",
       "...                                                    ...   \n",
       "17476                          white front slit maxi dress   \n",
       "12746                       gold plated kundan maang tikka   \n",
       "11316                         rough neck full sleeve shirt   \n",
       "12133                       yellow silk embroidery lehenga   \n",
       "721087            men black self design sport jogging shoe   \n",
       "\n",
       "                       subcat_proc  \\\n",
       "1951419                  nightsuit   \n",
       "561168           health supplement   \n",
       "285244                        cake   \n",
       "18980                        shirt   \n",
       "13121    luggage bag shopping tote   \n",
       "...                            ...   \n",
       "17476                                \n",
       "12746                         none   \n",
       "11316                  basic shirt   \n",
       "12133                         none   \n",
       "721087                  sport shoe   \n",
       "\n",
       "                                                 desc_proc  \\\n",
       "1951419  made finest cotton classic never go wrong incl...   \n",
       "561168   tot mom almond date drink mix nutritious drink...   \n",
       "285244   minimum prep time hr theme cake cricket lover ...   \n",
       "18980    get first purchase use code slayme checkout pl...   \n",
       "13121    description introducing extra large suitcase b...   \n",
       "...                                                    ...   \n",
       "17476    make entrance chic style wearing front slit ma...   \n",
       "12746    polish gold plated stone kundan maang tikka le...   \n",
       "11316    care instruction mild wash fit type slim fit f...   \n",
       "12133    lehenga fabric art silklehenga embroidery thre...   \n",
       "721087   wear comfortable trendy sport shoe complete lo...   \n",
       "\n",
       "                                                   pl_proc  \n",
       "1951419  loungewear lazy lama round green printed botto...  \n",
       "561168       tot mom organic drink mix almond date jaggery  \n",
       "285244                         cricket birthday theme cake  \n",
       "18980    http clothingtoslay product slay men edition l...  \n",
       "13121    http refash product micro print tote bag utm s...  \n",
       "...                                                    ...  \n",
       "17476    http enzeo product white front slit maxi dress...  \n",
       "12746                       gold plated kundan maang tikka  \n",
       "11316    http shoptinted com product tshirt utm source ...  \n",
       "12133                       yellow silk embroidery lehenga  \n",
       "721087            men black self design sport jogging shoe  \n",
       "\n",
       "[93638 rows x 4 columns]"
      ]
     },
     "execution_count": 178,
     "metadata": {},
     "output_type": "execute_result"
    }
   ],
   "source": [
    "X"
   ]
  },
  {
   "cell_type": "code",
   "execution_count": 179,
   "metadata": {},
   "outputs": [],
   "source": [
    "title_vec_model_final = TfidfVectorizer(max_df=0.3, min_df=0.0001)\n",
    "desc_vec_model_final = TfidfVectorizer(max_df=0.3, min_df=0.0001)\n",
    "subcat_vec_model_final = TfidfVectorizer(max_df=0.3, min_df=0.0001)\n",
    "pl_vec_model_final = TfidfVectorizer(max_df=0.3, min_df=0.0001)"
   ]
  },
  {
   "cell_type": "code",
   "execution_count": 180,
   "metadata": {},
   "outputs": [],
   "source": [
    "title_mat = title_vec_model_final.fit_transform(X['title_proc'].fillna(''))\n",
    "desc_mat = desc_vec_model_final.fit_transform(X['desc_proc'].fillna(''))\n",
    "subcat_mat = subcat_vec_model_final.fit_transform(X['subcat_proc'].fillna(''))\n",
    "pl_mat = pl_vec_model_final.fit_transform(X['pl_proc'].fillna(''))"
   ]
  },
  {
   "cell_type": "code",
   "execution_count": 181,
   "metadata": {},
   "outputs": [
    {
     "data": {
      "text/plain": [
       "<93638x25262 sparse matrix of type '<class 'numpy.float64'>'\n",
       "\twith 5570695 stored elements in Compressed Sparse Row format>"
      ]
     },
     "execution_count": 181,
     "metadata": {},
     "output_type": "execute_result"
    }
   ],
   "source": [
    "X_mat = hstack((title_mat, desc_mat, subcat_mat, pl_mat))\n",
    "# X_mat = hstack((title_mat, desc_mat, pl_mat))\n",
    "X_mat"
   ]
  },
  {
   "cell_type": "code",
   "execution_count": 182,
   "metadata": {},
   "outputs": [
    {
     "data": {
      "text/plain": [
       "LogisticRegression(n_jobs=6)"
      ]
     },
     "execution_count": 182,
     "metadata": {},
     "output_type": "execute_result"
    }
   ],
   "source": [
    "lr_model_final = LogisticRegression(n_jobs=6)\n",
    "lr_model_final.fit(X_mat, y)"
   ]
  },
  {
   "cell_type": "code",
   "execution_count": 183,
   "metadata": {},
   "outputs": [
    {
     "name": "stdout",
     "output_type": "stream",
     "text": [
      "Accuracy Score Is :  0.9902710438070015\n"
     ]
    }
   ],
   "source": [
    "yhat = lr_model_final.predict(X_mat)\n",
    "print(\"Accuracy Score Is : \", accuracy_score(y, yhat))\n",
    "# print(\"ROC_Score : \" +str(roc_auc_score(y, lr_model_final.predict(X_mat))))\n",
    "# al.predict_proba(X_mat),multi_class=\"ovr\")))\n",
    "# print('classification Score =','\\n', classification_report(y,yhat))\n",
    "# print(\"Confusion Matrix HeatMap : \\n\", confusion_matrix(y, yhat))"
   ]
  },
  {
   "cell_type": "code",
   "execution_count": null,
   "metadata": {},
   "outputs": [],
   "source": [
    "### Exporting the model\n",
    "\n",
    "# import joblib\n",
    "\n",
    "# joblib.dump(title_vec_model_final,'vectoriser_models/title_tfidf_cat5_v4.pkl')\n",
    "# joblib.dump(desc_vec_model_final,'vectoriser_models/desc_tfidf_cat5_v4.pkl')\n",
    "# joblib.dump(subcat_vec_model_final,'vectoriser_models/subcat_tfidf_cat5_v4.pkl')\n",
    "# joblib.dump(pl_vec_model_final,'vectoriser_models/pl_tfidf_cat5_v4.pkl')\n",
    "\n",
    "# joblib.dump(lr_model_final,'classification_models/logistic_regression_model_cat5_v4.pkl')"
   ]
  },
  {
   "cell_type": "code",
   "execution_count": null,
   "metadata": {},
   "outputs": [],
   "source": [
    "### Testing on baseline"
   ]
  },
  {
   "cell_type": "code",
   "execution_count": 184,
   "metadata": {},
   "outputs": [
    {
     "data": {
      "text/plain": [
       "(823, 13)"
      ]
     },
     "execution_count": 184,
     "metadata": {},
     "output_type": "execute_result"
    }
   ],
   "source": [
    "# prod_df = pd.read_csv(\"df_baseline_trainingset.csv\").rename(columns={'id':'_id', 'store_id':'_store_id', 'handle':'page_link', 'body_html':'description', 'product_type' :'shopify_subcategory'})\n",
    "prod_df = pd.read_csv(\"baseline_checks - Sheet2.csv\").rename(columns={'id':'_id', 'store_id':'_store_id', 'handle':'page_link', 'body_html':'description', 'product_type' :'shopify_subcategory'})\n",
    "\n",
    "prod_df.shape"
   ]
  },
  {
   "cell_type": "code",
   "execution_count": 185,
   "metadata": {},
   "outputs": [],
   "source": [
    "prod_df['title_proc'] = prod_df['title'].apply(lambda x: preproc(x))\n",
    "prod_df['desc_proc'] = prod_df['description'].apply(lambda x: preproc(x))\n",
    "prod_df['subcat_proc'] = prod_df['shopify_subcategory'].apply(lambda x: preproc(x))\n",
    "prod_df['pl_proc'] = prod_df['page_link'].str.split('/products/',expand=True)[1].apply(lambda x: preproc(x))"
   ]
  },
  {
   "cell_type": "code",
   "execution_count": 186,
   "metadata": {},
   "outputs": [],
   "source": [
    "X_df_rt = prod_df[['title_proc','subcat_proc','desc_proc', 'pl_proc']]\n",
    "# X_df_rt = prod_df[['title_proc','desc_proc', 'pl_proc']]"
   ]
  },
  {
   "cell_type": "code",
   "execution_count": 187,
   "metadata": {},
   "outputs": [
    {
     "data": {
      "text/plain": [
       "<823x25262 sparse matrix of type '<class 'numpy.float64'>'\n",
       "\twith 50290 stored elements in Compressed Sparse Row format>"
      ]
     },
     "execution_count": 187,
     "metadata": {},
     "output_type": "execute_result"
    }
   ],
   "source": [
    "title_mat_df_rt = title_vec_model_final.transform(X_df_rt['title_proc'].fillna(''))\n",
    "desc_mat_df_rt = desc_vec_model_final.transform(X_df_rt['desc_proc'].fillna(''))\n",
    "pl_mat_df_rt= pl_vec_model_final.transform(X_df_rt['pl_proc'].fillna(''))\n",
    "subcat_mat_df_rt= subcat_vec_model_final.transform(X_df_rt['subcat_proc'].fillna(''))\n",
    "\n",
    "X_mat_prod_df = hstack((title_mat_df_rt, desc_mat_df_rt, subcat_mat_df_rt, pl_mat_df_rt))\n",
    "# X_mat_prod_df = hstack((title_mat_df_rt, desc_mat_df_rt, pl_mat_df_rt))\n",
    "\n",
    "X_mat_prod_df"
   ]
  },
  {
   "cell_type": "code",
   "execution_count": 190,
   "metadata": {},
   "outputs": [],
   "source": [
    "prod_df['cat5_pred'] = lr_model_final.predict(X_mat_prod_df)\n",
    "prod_df['predict_proba'] =  lr_model_final.predict_proba(X_mat_prod_df).max(1)"
   ]
  },
  {
   "cell_type": "code",
   "execution_count": 192,
   "metadata": {},
   "outputs": [
    {
     "name": "stdout",
     "output_type": "stream",
     "text": [
      "Accuracy Score Is :  0.8918590522478737\n"
     ]
    }
   ],
   "source": [
    "print(\"Accuracy Score Is : \", accuracy_score(prod_df['cat5_tokens'], lr_model_final.predict(X_mat_prod_df)))"
   ]
  },
  {
   "cell_type": "code",
   "execution_count": 193,
   "metadata": {},
   "outputs": [
    {
     "data": {
      "text/html": [
       "<div>\n",
       "<style scoped>\n",
       "    .dataframe tbody tr th:only-of-type {\n",
       "        vertical-align: middle;\n",
       "    }\n",
       "\n",
       "    .dataframe tbody tr th {\n",
       "        vertical-align: top;\n",
       "    }\n",
       "\n",
       "    .dataframe thead th {\n",
       "        text-align: right;\n",
       "    }\n",
       "</style>\n",
       "<table border=\"1\" class=\"dataframe\">\n",
       "  <thead>\n",
       "    <tr style=\"text-align: right;\">\n",
       "      <th></th>\n",
       "      <th>_id</th>\n",
       "      <th>_store_id</th>\n",
       "      <th>shopify_product_id</th>\n",
       "      <th>title</th>\n",
       "      <th>page_link</th>\n",
       "      <th>description</th>\n",
       "      <th>shopify_subcategory</th>\n",
       "      <th>cat5</th>\n",
       "      <th>title_proc</th>\n",
       "      <th>desc_proc</th>\n",
       "      <th>subcat_proc</th>\n",
       "      <th>pl_proc</th>\n",
       "      <th>cat5_tokens</th>\n",
       "      <th>cat5_pred</th>\n",
       "      <th>predict_proba</th>\n",
       "    </tr>\n",
       "  </thead>\n",
       "  <tbody>\n",
       "    <tr>\n",
       "      <th>71</th>\n",
       "      <td>38132</td>\n",
       "      <td>110</td>\n",
       "      <td>3746720546881</td>\n",
       "      <td>Monochrome Floral Black Pocket Square</td>\n",
       "      <td>https://bowandsquare.com/products/monochrome-f...</td>\n",
       "      <td>Product Details\\n \\nOur pocket squares are han...</td>\n",
       "      <td>Pocket Square</td>\n",
       "      <td>Bow Ties</td>\n",
       "      <td>monochrome floral black pocket square</td>\n",
       "      <td>product detail pocket square handcrafted piece...</td>\n",
       "      <td>pocket square</td>\n",
       "      <td>monochrome floral black pocket square tbnsps</td>\n",
       "      <td>bow tie</td>\n",
       "      <td>pocket square</td>\n",
       "      <td>0.646966</td>\n",
       "    </tr>\n",
       "    <tr>\n",
       "      <th>94</th>\n",
       "      <td>252943</td>\n",
       "      <td>545</td>\n",
       "      <td>6792671789110</td>\n",
       "      <td>Wooden Classical spherical Grinder Medium</td>\n",
       "      <td>https://woodsala.com/products/wooden-classical...</td>\n",
       "      <td>Size : 3 x 3 x 4 InchMaterial : Natural Solid ...</td>\n",
       "      <td>Grinder</td>\n",
       "      <td>Brewers And Makers</td>\n",
       "      <td>wooden classical spherical grinder medium</td>\n",
       "      <td>size x x inchmaterial natural solid woodship day</td>\n",
       "      <td>grinder</td>\n",
       "      <td>wooden classical spherical grinder medium</td>\n",
       "      <td>brewer maker</td>\n",
       "      <td>sculpture</td>\n",
       "      <td>0.189729</td>\n",
       "    </tr>\n",
       "    <tr>\n",
       "      <th>100</th>\n",
       "      <td>255850</td>\n",
       "      <td>562</td>\n",
       "      <td>7479428382971</td>\n",
       "      <td>Hipster - Ski-Patrol</td>\n",
       "      <td>https://bummer.in/products/hipster-ski-patrol</td>\n",
       "      <td>Our hipsters are perfect for those who need a ...</td>\n",
       "      <td>Hipster</td>\n",
       "      <td>Briefs</td>\n",
       "      <td>hipster ski patrol</td>\n",
       "      <td>hipster perfect need full hip coverage need th...</td>\n",
       "      <td>hipster</td>\n",
       "      <td>hipster ski patrol</td>\n",
       "      <td>brief</td>\n",
       "      <td>bikini</td>\n",
       "      <td>0.544834</td>\n",
       "    </tr>\n",
       "    <tr>\n",
       "      <th>111</th>\n",
       "      <td>241585</td>\n",
       "      <td>481</td>\n",
       "      <td>7587125919956</td>\n",
       "      <td>Star Dream Catcher</td>\n",
       "      <td>https://refash.in/products/star-dream-catcher</td>\n",
       "      <td>Description \\nStar dream catcher with fabric s...</td>\n",
       "      <td>decorations, festive decor, Home Decor, Kids</td>\n",
       "      <td>Buntings</td>\n",
       "      <td>star dream catcher</td>\n",
       "      <td>description star dream catcher fabric strip po...</td>\n",
       "      <td>decoration festive decor home decor kid</td>\n",
       "      <td>star dream catcher</td>\n",
       "      <td>bunting</td>\n",
       "      <td>wall hanging</td>\n",
       "      <td>0.843504</td>\n",
       "    </tr>\n",
       "    <tr>\n",
       "      <th>117</th>\n",
       "      <td>255403</td>\n",
       "      <td>554</td>\n",
       "      <td>4538115358829</td>\n",
       "      <td>Whole Wheat Banana Cake Mix + Carrot Cake Mix ...</td>\n",
       "      <td>https://plattered.in/products/whole-wheat-bana...</td>\n",
       "      <td>Made with Whole Wheat and Natural Raw Sugar, o...</td>\n",
       "      <td>Ready Mix Dessert</td>\n",
       "      <td>Cakes</td>\n",
       "      <td>whole wheat banana cake mix carrot cake mix eg...</td>\n",
       "      <td>made whole wheat natural raw sugar whole wheat...</td>\n",
       "      <td>ready mix dessert</td>\n",
       "      <td>whole wheat banana cake mix carrot cake mix</td>\n",
       "      <td>cake</td>\n",
       "      <td>instant mix</td>\n",
       "      <td>0.961146</td>\n",
       "    </tr>\n",
       "    <tr>\n",
       "      <th>...</th>\n",
       "      <td>...</td>\n",
       "      <td>...</td>\n",
       "      <td>...</td>\n",
       "      <td>...</td>\n",
       "      <td>...</td>\n",
       "      <td>...</td>\n",
       "      <td>...</td>\n",
       "      <td>...</td>\n",
       "      <td>...</td>\n",
       "      <td>...</td>\n",
       "      <td>...</td>\n",
       "      <td>...</td>\n",
       "      <td>...</td>\n",
       "      <td>...</td>\n",
       "      <td>...</td>\n",
       "    </tr>\n",
       "    <tr>\n",
       "      <th>816</th>\n",
       "      <td>252753</td>\n",
       "      <td>509</td>\n",
       "      <td>6778467614798</td>\n",
       "      <td>MASON</td>\n",
       "      <td>https://redoak.in/products/mason</td>\n",
       "      <td>RedOAK MASON is an exquisite piece of furnitur...</td>\n",
       "      <td>NaN</td>\n",
       "      <td>Ottomans</td>\n",
       "      <td>mason</td>\n",
       "      <td>redoak mason exquisite piece furniture crafted...</td>\n",
       "      <td>nan</td>\n",
       "      <td>mason</td>\n",
       "      <td>ottoman</td>\n",
       "      <td>sculpture</td>\n",
       "      <td>0.018719</td>\n",
       "    </tr>\n",
       "    <tr>\n",
       "      <th>817</th>\n",
       "      <td>253198</td>\n",
       "      <td>545</td>\n",
       "      <td>4887687856182</td>\n",
       "      <td>Horse Head Bookend</td>\n",
       "      <td>https://woodsala.com/products/horse-head-bookend</td>\n",
       "      <td>Size (LxBxH) : 4 x 5.5 x 6 InchMaterial : Natu...</td>\n",
       "      <td>Animal Figurine</td>\n",
       "      <td>Bookends</td>\n",
       "      <td>horse head bookend</td>\n",
       "      <td>size lxbxh x x inchmaterial natural solid wood...</td>\n",
       "      <td>animal figurine</td>\n",
       "      <td>horse head bookend</td>\n",
       "      <td>bookend</td>\n",
       "      <td>sculpture</td>\n",
       "      <td>0.893780</td>\n",
       "    </tr>\n",
       "    <tr>\n",
       "      <th>818</th>\n",
       "      <td>254346</td>\n",
       "      <td>545</td>\n",
       "      <td>4637407772726</td>\n",
       "      <td>Ethnic Woven Sides Couch</td>\n",
       "      <td>https://woodsala.com/products/ethnic-woven-sid...</td>\n",
       "      <td>Size (LxBxH) : 72 x 22 x 36 InchMaterial : Tea...</td>\n",
       "      <td>Sofa</td>\n",
       "      <td>Ethnic Tops</td>\n",
       "      <td>ethnic woven side couch</td>\n",
       "      <td>size lxbxh x x inchmaterial teak woodassembly ...</td>\n",
       "      <td>sofa</td>\n",
       "      <td>ethnic woven side couch</td>\n",
       "      <td>sofa</td>\n",
       "      <td>sculpture</td>\n",
       "      <td>0.353461</td>\n",
       "    </tr>\n",
       "    <tr>\n",
       "      <th>821</th>\n",
       "      <td>256857</td>\n",
       "      <td>574</td>\n",
       "      <td>6997953806486</td>\n",
       "      <td>Spartan Testosterone Booster</td>\n",
       "      <td>https://mojocarestore.com/products/spartan</td>\n",
       "      <td>Carefully created natural Testosterone booster...</td>\n",
       "      <td>Tablet</td>\n",
       "      <td>Sexual Wellbeing</td>\n",
       "      <td>spartan testosterone booster</td>\n",
       "      <td>carefully created natural testosterone booster...</td>\n",
       "      <td>tablet</td>\n",
       "      <td>spartan</td>\n",
       "      <td>sexual wellbeing</td>\n",
       "      <td>health supplement</td>\n",
       "      <td>0.139699</td>\n",
       "    </tr>\n",
       "    <tr>\n",
       "      <th>822</th>\n",
       "      <td>261509</td>\n",
       "      <td>624</td>\n",
       "      <td>6160932307114</td>\n",
       "      <td>Pendant Lamp - Yellow Patch Lamp Shade</td>\n",
       "      <td>https://rangreli.com/products/pendant-patch-la...</td>\n",
       "      <td>Style\\nModern | Painting Style - Watercolour o...</td>\n",
       "      <td>Pendant Lamps</td>\n",
       "      <td>Wall Lamps</td>\n",
       "      <td>pendant lamp yellow patch lamp shade</td>\n",
       "      <td>style modern painting style watercolour fabric...</td>\n",
       "      <td>pendant lamp</td>\n",
       "      <td>pendant patch lamp shade</td>\n",
       "      <td>wall lamp</td>\n",
       "      <td>table lamp</td>\n",
       "      <td>0.539238</td>\n",
       "    </tr>\n",
       "  </tbody>\n",
       "</table>\n",
       "<p>89 rows × 15 columns</p>\n",
       "</div>"
      ],
      "text/plain": [
       "        _id  _store_id  shopify_product_id  \\\n",
       "71    38132        110       3746720546881   \n",
       "94   252943        545       6792671789110   \n",
       "100  255850        562       7479428382971   \n",
       "111  241585        481       7587125919956   \n",
       "117  255403        554       4538115358829   \n",
       "..      ...        ...                 ...   \n",
       "816  252753        509       6778467614798   \n",
       "817  253198        545       4887687856182   \n",
       "818  254346        545       4637407772726   \n",
       "821  256857        574       6997953806486   \n",
       "822  261509        624       6160932307114   \n",
       "\n",
       "                                                 title  \\\n",
       "71               Monochrome Floral Black Pocket Square   \n",
       "94           Wooden Classical spherical Grinder Medium   \n",
       "100                               Hipster - Ski-Patrol   \n",
       "111                                 Star Dream Catcher   \n",
       "117  Whole Wheat Banana Cake Mix + Carrot Cake Mix ...   \n",
       "..                                                 ...   \n",
       "816                                              MASON   \n",
       "817                                 Horse Head Bookend   \n",
       "818                           Ethnic Woven Sides Couch   \n",
       "821                       Spartan Testosterone Booster   \n",
       "822             Pendant Lamp - Yellow Patch Lamp Shade   \n",
       "\n",
       "                                             page_link  \\\n",
       "71   https://bowandsquare.com/products/monochrome-f...   \n",
       "94   https://woodsala.com/products/wooden-classical...   \n",
       "100      https://bummer.in/products/hipster-ski-patrol   \n",
       "111      https://refash.in/products/star-dream-catcher   \n",
       "117  https://plattered.in/products/whole-wheat-bana...   \n",
       "..                                                 ...   \n",
       "816                   https://redoak.in/products/mason   \n",
       "817   https://woodsala.com/products/horse-head-bookend   \n",
       "818  https://woodsala.com/products/ethnic-woven-sid...   \n",
       "821         https://mojocarestore.com/products/spartan   \n",
       "822  https://rangreli.com/products/pendant-patch-la...   \n",
       "\n",
       "                                           description  \\\n",
       "71   Product Details\\n \\nOur pocket squares are han...   \n",
       "94   Size : 3 x 3 x 4 InchMaterial : Natural Solid ...   \n",
       "100  Our hipsters are perfect for those who need a ...   \n",
       "111  Description \\nStar dream catcher with fabric s...   \n",
       "117  Made with Whole Wheat and Natural Raw Sugar, o...   \n",
       "..                                                 ...   \n",
       "816  RedOAK MASON is an exquisite piece of furnitur...   \n",
       "817  Size (LxBxH) : 4 x 5.5 x 6 InchMaterial : Natu...   \n",
       "818  Size (LxBxH) : 72 x 22 x 36 InchMaterial : Tea...   \n",
       "821  Carefully created natural Testosterone booster...   \n",
       "822  Style\\nModern | Painting Style - Watercolour o...   \n",
       "\n",
       "                              shopify_subcategory                cat5  \\\n",
       "71                                  Pocket Square            Bow Ties   \n",
       "94                                        Grinder  Brewers And Makers   \n",
       "100                                       Hipster              Briefs   \n",
       "111  decorations, festive decor, Home Decor, Kids            Buntings   \n",
       "117                             Ready Mix Dessert               Cakes   \n",
       "..                                            ...                 ...   \n",
       "816                                           NaN            Ottomans   \n",
       "817                               Animal Figurine            Bookends   \n",
       "818                                          Sofa         Ethnic Tops   \n",
       "821                                        Tablet    Sexual Wellbeing   \n",
       "822                                 Pendant Lamps          Wall Lamps   \n",
       "\n",
       "                                            title_proc  \\\n",
       "71               monochrome floral black pocket square   \n",
       "94           wooden classical spherical grinder medium   \n",
       "100                                 hipster ski patrol   \n",
       "111                                 star dream catcher   \n",
       "117  whole wheat banana cake mix carrot cake mix eg...   \n",
       "..                                                 ...   \n",
       "816                                              mason   \n",
       "817                                 horse head bookend   \n",
       "818                            ethnic woven side couch   \n",
       "821                       spartan testosterone booster   \n",
       "822               pendant lamp yellow patch lamp shade   \n",
       "\n",
       "                                             desc_proc  \\\n",
       "71   product detail pocket square handcrafted piece...   \n",
       "94    size x x inchmaterial natural solid woodship day   \n",
       "100  hipster perfect need full hip coverage need th...   \n",
       "111  description star dream catcher fabric strip po...   \n",
       "117  made whole wheat natural raw sugar whole wheat...   \n",
       "..                                                 ...   \n",
       "816  redoak mason exquisite piece furniture crafted...   \n",
       "817  size lxbxh x x inchmaterial natural solid wood...   \n",
       "818  size lxbxh x x inchmaterial teak woodassembly ...   \n",
       "821  carefully created natural testosterone booster...   \n",
       "822  style modern painting style watercolour fabric...   \n",
       "\n",
       "                                 subcat_proc  \\\n",
       "71                             pocket square   \n",
       "94                                   grinder   \n",
       "100                                  hipster   \n",
       "111  decoration festive decor home decor kid   \n",
       "117                        ready mix dessert   \n",
       "..                                       ...   \n",
       "816                                      nan   \n",
       "817                          animal figurine   \n",
       "818                                     sofa   \n",
       "821                                   tablet   \n",
       "822                             pendant lamp   \n",
       "\n",
       "                                          pl_proc       cat5_tokens  \\\n",
       "71   monochrome floral black pocket square tbnsps           bow tie   \n",
       "94      wooden classical spherical grinder medium      brewer maker   \n",
       "100                            hipster ski patrol             brief   \n",
       "111                            star dream catcher           bunting   \n",
       "117   whole wheat banana cake mix carrot cake mix              cake   \n",
       "..                                            ...               ...   \n",
       "816                                         mason           ottoman   \n",
       "817                            horse head bookend           bookend   \n",
       "818                       ethnic woven side couch              sofa   \n",
       "821                                       spartan  sexual wellbeing   \n",
       "822                      pendant patch lamp shade         wall lamp   \n",
       "\n",
       "             cat5_pred  predict_proba  \n",
       "71       pocket square       0.646966  \n",
       "94           sculpture       0.189729  \n",
       "100             bikini       0.544834  \n",
       "111       wall hanging       0.843504  \n",
       "117        instant mix       0.961146  \n",
       "..                 ...            ...  \n",
       "816          sculpture       0.018719  \n",
       "817          sculpture       0.893780  \n",
       "818          sculpture       0.353461  \n",
       "821  health supplement       0.139699  \n",
       "822         table lamp       0.539238  \n",
       "\n",
       "[89 rows x 15 columns]"
      ]
     },
     "execution_count": 193,
     "metadata": {},
     "output_type": "execute_result"
    }
   ],
   "source": [
    " df_review = prod_df[prod_df['cat5_tokens'] != prod_df['cat5_pred']]\n",
    " df_review.csv('prod_df_review.csv')"
   ]
  },
  {
   "cell_type": "code",
   "execution_count": null,
   "metadata": {},
   "outputs": [],
   "source": [
    "# prod_df['cat5_predict'] = lr_model_final.predict(X_mat_prod_df)\n",
    "# prod_df"
   ]
  },
  {
   "cell_type": "code",
   "execution_count": null,
   "metadata": {},
   "outputs": [],
   "source": [
    "# prod_df['check'] = prod_df['cat5_tokens'] == prod_df['cat5_predict']\n",
    "# prod_df['cat5_tokens'] == prod_df['cat5_predict']"
   ]
  },
  {
   "cell_type": "code",
   "execution_count": null,
   "metadata": {},
   "outputs": [],
   "source": [
    "# prod_df[prod_df.check == False]"
   ]
  },
  {
   "cell_type": "code",
   "execution_count": null,
   "metadata": {},
   "outputs": [],
   "source": [
    "# prod_df[prod_df.check == False].to_clipboard(index=False)"
   ]
  },
  {
   "cell_type": "code",
   "execution_count": null,
   "metadata": {},
   "outputs": [],
   "source": [
    "# prod_df[prod_df.check == True].to_clipboard(index=False)"
   ]
  },
  {
   "cell_type": "code",
   "execution_count": null,
   "metadata": {},
   "outputs": [],
   "source": [
    "# ## Loading prev cat5 Models\n",
    "\n",
    "# latest_title_vec_model = load('/Users/apoorvatiwari/Documents/Apps_RecSy/downtown-product-classifcation/cat_level3/Old_Files/models_Backup/08112022/vectoriser_models/title_tfidf_cat5_gd_ct_5.pkl')\n",
    "# latest_desc_vec_model = load('/Users/apoorvatiwari/Documents/Apps_RecSy/downtown-product-classifcation/cat_level3/Old_Files/models_Backup/08112022/vectoriser_models/desc_tfidf_cat5_gd_ct_5.pkl')\n",
    "# latest_pl_vec_model = load('/Users/apoorvatiwari/Documents/Apps_RecSy/downtown-product-classifcation/cat_level3/Old_Files/models_Backup/08112022/vectoriser_models/pl_tfidf_cat5_gd_ct_5.pkl')\n",
    "# # latest_subcat_vec_model = load('vectoriser_models/subcat_tfidf_cat5_gd_ct.pkl')\n",
    "# latest_lr_model = load('/Users/apoorvatiwari/Documents/Apps_RecSy/downtown-product-classifcation/cat_level3/Old_Files/models_Backup/08112022/classification_models/logistic_regression_model_cat5_gd_ct_5.pkl')"
   ]
  },
  {
   "cell_type": "code",
   "execution_count": null,
   "metadata": {},
   "outputs": [],
   "source": [
    "title_mat_df_rt = latest_title_vec_model.transform(X_df_rt['title_proc'].fillna(''))\n",
    "desc_mat_df_rt = latest_desc_vec_model.transform(X_df_rt['desc_proc'].fillna(''))\n",
    "pl_mat_df_rt= latest_pl_vec_model.transform(X_df_rt['pl_proc'].fillna(''))\n",
    "# subcat_mat_df_rt= latest_subcat_vec_model.transform(X_df_rt['subcat_proc'].fillna(''))\n",
    "\n",
    "# X_mat_prod_df = hstack((title_mat_df_rt, desc_mat_df_rt, subcat_mat_df_rt, pl_mat_df_rt))\n",
    "X_mat_prod_df = hstack((title_mat_df_rt, desc_mat_df_rt,  pl_mat_df_rt))\n",
    "\n",
    "X_mat_prod_df"
   ]
  },
  {
   "cell_type": "code",
   "execution_count": null,
   "metadata": {},
   "outputs": [],
   "source": [
    "print(\"Accuracy Score Is : \", accuracy_score(prod_df['cat5_tokens'], latest_lr_model.predict(X_mat_prod_df)))"
   ]
  },
  {
   "cell_type": "code",
   "execution_count": 1,
   "metadata": {},
   "outputs": [
    {
     "data": {
      "text/plain": [
       "0.025516403402187193"
      ]
     },
     "execution_count": 1,
     "metadata": {},
     "output_type": "execute_result"
    }
   ],
   "source": [
    "0.945321992709599 - 0.9198055893074119"
   ]
  },
  {
   "cell_type": "code",
   "execution_count": null,
   "metadata": {},
   "outputs": [],
   "source": []
  }
 ],
 "metadata": {
  "kernelspec": {
   "display_name": "Python 3.9.13 ('base')",
   "language": "python",
   "name": "python3"
  },
  "language_info": {
   "codemirror_mode": {
    "name": "ipython",
    "version": 3
   },
   "file_extension": ".py",
   "mimetype": "text/x-python",
   "name": "python",
   "nbconvert_exporter": "python",
   "pygments_lexer": "ipython3",
   "version": "3.9.13"
  },
  "orig_nbformat": 4,
  "vscode": {
   "interpreter": {
    "hash": "d8f46350a8bd583910db51a1d64064108b958bcbad0d091bd79d552637a4ab30"
   }
  }
 },
 "nbformat": 4,
 "nbformat_minor": 2
}

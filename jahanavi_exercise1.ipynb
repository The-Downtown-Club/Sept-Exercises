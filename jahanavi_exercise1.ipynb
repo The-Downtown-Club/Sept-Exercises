{
 "cells": [
  {
   "cell_type": "code",
   "execution_count": 3,
   "id": "f27f4489",
   "metadata": {},
   "outputs": [
    {
     "name": "stdout",
     "output_type": "stream",
     "text": [
      "https://happyratio.com/\n",
      "The Shopify Domain Name is  happyratio\n",
      "www.clayventures.in\n",
      "The Shopify Domain Name is  clayventures\n",
      "http://merojewellery.in\n",
      "The Shopify Domain Name is  merojewellery\n",
      "http://jivikanaturals.com\n",
      "The Shopify Domain Name is  jivikanaturals\n",
      "https://www.tribeshop.com\n",
      "The Shopify Domain Name is  tribeshop\n",
      "http://heroku.projectoptimal.com/\n",
      "The Shopify Domain Name is  projectoptimal\n",
      "http://breadandbeta.com/\n",
      "The Shopify Domain Name is  breadandbeta\n"
     ]
    }
   ],
   "source": [
    "for i in range(1,8):\n",
    "    input_url = input(\"\")#Taking a Url from User\n",
    "    Domain = \"\"#Domain name\n",
    "    x = input_url.split(\"/\")\n",
    "\n",
    "#if input Url string contain HTTPs or HTTP\n",
    "    if(x[0] == \"https:\" or x[0] == \"http:\"):\n",
    "        x = x[2].split(\".\")\n",
    "    else:\n",
    "        x = x[0].split(\".\")\n",
    "    \n",
    "#if input Url without www\n",
    "    if(len(x) == 2):\n",
    "        Domain = x[0]\n",
    "    else:\n",
    "        Domain = x[1]\n",
    "    \n",
    "    print(\"The Shopify Domain Name is \", Domain)"
   ]
  },
  {
   "cell_type": "code",
   "execution_count": null,
   "id": "95753221",
   "metadata": {},
   "outputs": [],
   "source": []
  }
 ],
 "metadata": {
  "kernelspec": {
   "display_name": "Python 3 (ipykernel)",
   "language": "python",
   "name": "python3"
  },
  "language_info": {
   "codemirror_mode": {
    "name": "ipython",
    "version": 3
   },
   "file_extension": ".py",
   "mimetype": "text/x-python",
   "name": "python",
   "nbconvert_exporter": "python",
   "pygments_lexer": "ipython3",
   "version": "3.10.6"
  }
 },
 "nbformat": 4,
 "nbformat_minor": 5
}
